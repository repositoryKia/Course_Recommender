{
 "cells": [
  {
   "cell_type": "code",
   "execution_count": 58,
   "metadata": {
    "id": "Kk9U8vMYVE4d"
   },
   "outputs": [],
   "source": [
    "# Import library\n",
    "import joblib\n",
    "import pandas as pd\n",
    "import numpy as np\n",
    "import tensorflow as tf\n",
    "from tensorflow import keras\n",
    "from tensorflow.keras import layers\n",
    "from zipfile import ZipFile\n",
    "import matplotlib.pyplot as plt"
   ]
  },
  {
   "cell_type": "code",
   "execution_count": 59,
   "metadata": {
    "colab": {
     "base_uri": "https://localhost:8080/"
    },
    "id": "a6FQOXrRVHeU",
    "outputId": "eaf481fa-fa0a-438a-b9ae-66d930a9abde"
   },
   "outputs": [],
   "source": [
    "# !kaggle datasets download -d imuhammad/course-reviews-on-coursera"
   ]
  },
  {
   "cell_type": "code",
   "execution_count": 60,
   "metadata": {
    "id": "h4s9H9nHVL3E"
   },
   "outputs": [],
   "source": [
    "# zip_ref = ZipFile('course-reviews-on-coursera.zip')\n",
    "# zip_ref.extractall(\"/content\")\n",
    "# zip_ref.close()"
   ]
  },
  {
   "cell_type": "code",
   "execution_count": 61,
   "metadata": {
    "id": "-2cZxbCiVM_O"
   },
   "outputs": [],
   "source": [
    "courses_df = pd.read_excel(r'D:\\Bismillah SKRIPSIIIII\\REVISI\\dataset\\courses.xlsx')\n",
    "reviews_df = pd.read_excel(r'D:\\Bismillah SKRIPSIIIII\\REVISI\\dataset\\user.xlsx')"
   ]
  },
  {
   "cell_type": "markdown",
   "metadata": {
    "id": "rPBGzugxVOp_"
   },
   "source": [
    "# Courses"
   ]
  },
  {
   "cell_type": "code",
   "execution_count": 62,
   "metadata": {
    "colab": {
     "base_uri": "https://localhost:8080/"
    },
    "id": "M6HVmeTkVQZz",
    "outputId": "4d6612a8-fc0a-449d-a29c-ef505c15d7b1"
   },
   "outputs": [
    {
     "data": {
      "text/html": [
       "<div>\n",
       "<style scoped>\n",
       "    .dataframe tbody tr th:only-of-type {\n",
       "        vertical-align: middle;\n",
       "    }\n",
       "\n",
       "    .dataframe tbody tr th {\n",
       "        vertical-align: top;\n",
       "    }\n",
       "\n",
       "    .dataframe thead th {\n",
       "        text-align: right;\n",
       "    }\n",
       "</style>\n",
       "<table border=\"1\" class=\"dataframe\">\n",
       "  <thead>\n",
       "    <tr style=\"text-align: right;\">\n",
       "      <th></th>\n",
       "      <th>name</th>\n",
       "      <th>course_url</th>\n",
       "      <th>course_id</th>\n",
       "      <th>rating</th>\n",
       "      <th>Unnamed: 4</th>\n",
       "      <th>Unnamed: 5</th>\n",
       "    </tr>\n",
       "  </thead>\n",
       "  <tbody>\n",
       "    <tr>\n",
       "      <th>0</th>\n",
       "      <td>AI For Everyone</td>\n",
       "      <td>https://www.coursera.org/learn/ai-for-everyone</td>\n",
       "      <td>9</td>\n",
       "      <td>4.84</td>\n",
       "      <td>NaN</td>\n",
       "      <td>NaN</td>\n",
       "    </tr>\n",
       "    <tr>\n",
       "      <th>1</th>\n",
       "      <td>AWS Fundamentals: Addressing Security Risk</td>\n",
       "      <td>https://www.coursera.org/learn/aws-fundamental...</td>\n",
       "      <td>353</td>\n",
       "      <td>4.16</td>\n",
       "      <td>NaN</td>\n",
       "      <td>NaN</td>\n",
       "    </tr>\n",
       "    <tr>\n",
       "      <th>2</th>\n",
       "      <td>AWS Fundamentals: Going Cloud-Native</td>\n",
       "      <td>https://www.coursera.org/learn/aws-fundamental...</td>\n",
       "      <td>118</td>\n",
       "      <td>4.68</td>\n",
       "      <td>NaN</td>\n",
       "      <td>NaN</td>\n",
       "    </tr>\n",
       "    <tr>\n",
       "      <th>3</th>\n",
       "      <td>Agile with Atlassian Jira</td>\n",
       "      <td>https://www.coursera.org/learn/agile-atlassian...</td>\n",
       "      <td>40</td>\n",
       "      <td>4.66</td>\n",
       "      <td>NaN</td>\n",
       "      <td>NaN</td>\n",
       "    </tr>\n",
       "    <tr>\n",
       "      <th>4</th>\n",
       "      <td>Applied Data Science Capstone</td>\n",
       "      <td>https://www.coursera.org/learn/applied-data-sc...</td>\n",
       "      <td>344</td>\n",
       "      <td>4.51</td>\n",
       "      <td>NaN</td>\n",
       "      <td>NaN</td>\n",
       "    </tr>\n",
       "  </tbody>\n",
       "</table>\n",
       "</div>"
      ],
      "text/plain": [
       "                                         name  \\\n",
       "0                             AI For Everyone   \n",
       "1  AWS Fundamentals: Addressing Security Risk   \n",
       "2        AWS Fundamentals: Going Cloud-Native   \n",
       "3                   Agile with Atlassian Jira   \n",
       "4               Applied Data Science Capstone   \n",
       "\n",
       "                                          course_url course_id rating  \\\n",
       "0     https://www.coursera.org/learn/ai-for-everyone         9   4.84   \n",
       "1  https://www.coursera.org/learn/aws-fundamental...       353   4.16   \n",
       "2  https://www.coursera.org/learn/aws-fundamental...       118   4.68   \n",
       "3  https://www.coursera.org/learn/agile-atlassian...        40   4.66   \n",
       "4  https://www.coursera.org/learn/applied-data-sc...       344   4.51   \n",
       "\n",
       "   Unnamed: 4  Unnamed: 5  \n",
       "0         NaN         NaN  \n",
       "1         NaN         NaN  \n",
       "2         NaN         NaN  \n",
       "3         NaN         NaN  \n",
       "4         NaN         NaN  "
      ]
     },
     "execution_count": 62,
     "metadata": {},
     "output_type": "execute_result"
    }
   ],
   "source": [
    "courses_df.head()"
   ]
  },
  {
   "cell_type": "code",
   "execution_count": 63,
   "metadata": {
    "colab": {
     "base_uri": "https://localhost:8080/"
    },
    "id": "k4361_S8VVTE",
    "outputId": "e75524d0-be54-4894-bf79-0c0c90145a1a"
   },
   "outputs": [
    {
     "name": "stdout",
     "output_type": "stream",
     "text": [
      "<class 'pandas.core.frame.DataFrame'>\n",
      "RangeIndex: 132 entries, 0 to 131\n",
      "Data columns (total 6 columns):\n",
      " #   Column      Non-Null Count  Dtype  \n",
      "---  ------      --------------  -----  \n",
      " 0   name        132 non-null    object \n",
      " 1   course_url  132 non-null    object \n",
      " 2   course_id   132 non-null    object \n",
      " 3   rating      132 non-null    object \n",
      " 4   Unnamed: 4  10 non-null     float64\n",
      " 5   Unnamed: 5  4 non-null      float64\n",
      "dtypes: float64(2), object(4)\n",
      "memory usage: 6.3+ KB\n"
     ]
    }
   ],
   "source": [
    "courses_df.info()"
   ]
  },
  {
   "cell_type": "code",
   "execution_count": 64,
   "metadata": {},
   "outputs": [
    {
     "name": "stdout",
     "output_type": "stream",
     "text": [
      "<class 'pandas.core.frame.DataFrame'>\n",
      "RangeIndex: 132 entries, 0 to 131\n",
      "Data columns (total 4 columns):\n",
      " #   Column      Non-Null Count  Dtype \n",
      "---  ------      --------------  ----- \n",
      " 0   name        132 non-null    object\n",
      " 1   course_url  132 non-null    object\n",
      " 2   course_id   132 non-null    object\n",
      " 3   rating      132 non-null    object\n",
      "dtypes: object(4)\n",
      "memory usage: 4.2+ KB\n"
     ]
    }
   ],
   "source": [
    "courses_df = courses_df.drop(columns=['Unnamed: 4', 'Unnamed: 5'])\n",
    "courses_df.info()"
   ]
  },
  {
   "cell_type": "code",
   "execution_count": 65,
   "metadata": {
    "colab": {
     "base_uri": "https://localhost:8080/"
    },
    "id": "H0IrUHQDVYTS",
    "outputId": "bfdb4718-5e4e-4972-adfc-123c4f9c70d2"
   },
   "outputs": [
    {
     "data": {
      "text/html": [
       "<div>\n",
       "<style scoped>\n",
       "    .dataframe tbody tr th:only-of-type {\n",
       "        vertical-align: middle;\n",
       "    }\n",
       "\n",
       "    .dataframe tbody tr th {\n",
       "        vertical-align: top;\n",
       "    }\n",
       "\n",
       "    .dataframe thead th {\n",
       "        text-align: right;\n",
       "    }\n",
       "</style>\n",
       "<table border=\"1\" class=\"dataframe\">\n",
       "  <thead>\n",
       "    <tr style=\"text-align: right;\">\n",
       "      <th></th>\n",
       "      <th>name</th>\n",
       "      <th>course_url</th>\n",
       "      <th>course_id</th>\n",
       "      <th>rating</th>\n",
       "    </tr>\n",
       "  </thead>\n",
       "  <tbody>\n",
       "    <tr>\n",
       "      <th>count</th>\n",
       "      <td>132</td>\n",
       "      <td>132</td>\n",
       "      <td>132</td>\n",
       "      <td>132</td>\n",
       "    </tr>\n",
       "    <tr>\n",
       "      <th>unique</th>\n",
       "      <td>132</td>\n",
       "      <td>131</td>\n",
       "      <td>132</td>\n",
       "      <td>70</td>\n",
       "    </tr>\n",
       "    <tr>\n",
       "      <th>top</th>\n",
       "      <td>AI For Everyone</td>\n",
       "      <td>Part 1</td>\n",
       "      <td>9</td>\n",
       "      <td>4.76</td>\n",
       "    </tr>\n",
       "    <tr>\n",
       "      <th>freq</th>\n",
       "      <td>1</td>\n",
       "      <td>2</td>\n",
       "      <td>1</td>\n",
       "      <td>7</td>\n",
       "    </tr>\n",
       "  </tbody>\n",
       "</table>\n",
       "</div>"
      ],
      "text/plain": [
       "                   name course_url  course_id rating\n",
       "count               132        132        132    132\n",
       "unique              132        131        132     70\n",
       "top     AI For Everyone     Part 1          9   4.76\n",
       "freq                  1          2          1      7"
      ]
     },
     "execution_count": 65,
     "metadata": {},
     "output_type": "execute_result"
    }
   ],
   "source": [
    "courses_df.describe()"
   ]
  },
  {
   "cell_type": "code",
   "execution_count": 66,
   "metadata": {
    "colab": {
     "base_uri": "https://localhost:8080/"
    },
    "id": "mPQ-9ujIVaRn",
    "outputId": "e2b4f6f0-2b3b-497c-efbf-a5f111e1f63f"
   },
   "outputs": [
    {
     "data": {
      "text/plain": [
       "0"
      ]
     },
     "execution_count": 66,
     "metadata": {},
     "output_type": "execute_result"
    }
   ],
   "source": [
    "courses_df.duplicated().sum()"
   ]
  },
  {
   "cell_type": "markdown",
   "metadata": {
    "id": "VDcmWX74Vbzx"
   },
   "source": [
    "# Reviews"
   ]
  },
  {
   "cell_type": "code",
   "execution_count": 67,
   "metadata": {
    "colab": {
     "base_uri": "https://localhost:8080/"
    },
    "id": "un9uqXqUVde0",
    "outputId": "a3896160-4f73-4a7e-f87b-6888c47a0774"
   },
   "outputs": [
    {
     "data": {
      "text/html": [
       "<div>\n",
       "<style scoped>\n",
       "    .dataframe tbody tr th:only-of-type {\n",
       "        vertical-align: middle;\n",
       "    }\n",
       "\n",
       "    .dataframe tbody tr th {\n",
       "        vertical-align: top;\n",
       "    }\n",
       "\n",
       "    .dataframe thead th {\n",
       "        text-align: right;\n",
       "    }\n",
       "</style>\n",
       "<table border=\"1\" class=\"dataframe\">\n",
       "  <thead>\n",
       "    <tr style=\"text-align: right;\">\n",
       "      <th></th>\n",
       "      <th>name</th>\n",
       "      <th>course_url</th>\n",
       "      <th>course_id</th>\n",
       "      <th>reviewers</th>\n",
       "      <th>rating</th>\n",
       "      <th>user_id</th>\n",
       "      <th>Unnamed: 6</th>\n",
       "      <th>Unnamed: 7</th>\n",
       "    </tr>\n",
       "  </thead>\n",
       "  <tbody>\n",
       "    <tr>\n",
       "      <th>0</th>\n",
       "      <td>Machine Learning</td>\n",
       "      <td>https://www.coursera.org/learn/machine-learning</td>\n",
       "      <td>1</td>\n",
       "      <td>Bruno C</td>\n",
       "      <td>1</td>\n",
       "      <td>1</td>\n",
       "      <td>NaN</td>\n",
       "      <td>NaN</td>\n",
       "    </tr>\n",
       "    <tr>\n",
       "      <th>1</th>\n",
       "      <td>Machine Learning</td>\n",
       "      <td>https://www.coursera.org/learn/machine-learning</td>\n",
       "      <td>1</td>\n",
       "      <td>Fadi</td>\n",
       "      <td>1</td>\n",
       "      <td>2</td>\n",
       "      <td>NaN</td>\n",
       "      <td>NaN</td>\n",
       "    </tr>\n",
       "    <tr>\n",
       "      <th>2</th>\n",
       "      <td>Machine Learning</td>\n",
       "      <td>https://www.coursera.org/learn/machine-learning</td>\n",
       "      <td>1</td>\n",
       "      <td>Mathew L</td>\n",
       "      <td>1</td>\n",
       "      <td>3</td>\n",
       "      <td>NaN</td>\n",
       "      <td>NaN</td>\n",
       "    </tr>\n",
       "    <tr>\n",
       "      <th>3</th>\n",
       "      <td>Machine Learning</td>\n",
       "      <td>https://www.coursera.org/learn/machine-learning</td>\n",
       "      <td>1</td>\n",
       "      <td>Rui C</td>\n",
       "      <td>1</td>\n",
       "      <td>4</td>\n",
       "      <td>NaN</td>\n",
       "      <td>NaN</td>\n",
       "    </tr>\n",
       "    <tr>\n",
       "      <th>4</th>\n",
       "      <td>Machine Learning</td>\n",
       "      <td>https://www.coursera.org/learn/machine-learning</td>\n",
       "      <td>1</td>\n",
       "      <td>Mehdi A</td>\n",
       "      <td>1</td>\n",
       "      <td>5</td>\n",
       "      <td>NaN</td>\n",
       "      <td>NaN</td>\n",
       "    </tr>\n",
       "  </tbody>\n",
       "</table>\n",
       "</div>"
      ],
      "text/plain": [
       "               name                                       course_url  \\\n",
       "0  Machine Learning  https://www.coursera.org/learn/machine-learning   \n",
       "1  Machine Learning  https://www.coursera.org/learn/machine-learning   \n",
       "2  Machine Learning  https://www.coursera.org/learn/machine-learning   \n",
       "3  Machine Learning  https://www.coursera.org/learn/machine-learning   \n",
       "4  Machine Learning  https://www.coursera.org/learn/machine-learning   \n",
       "\n",
       "  course_id reviewers rating user_id  Unnamed: 6  Unnamed: 7  \n",
       "0         1   Bruno C      1       1         NaN         NaN  \n",
       "1         1      Fadi      1       2         NaN         NaN  \n",
       "2         1  Mathew L      1       3         NaN         NaN  \n",
       "3         1     Rui C      1       4         NaN         NaN  \n",
       "4         1   Mehdi A      1       5         NaN         NaN  "
      ]
     },
     "execution_count": 67,
     "metadata": {},
     "output_type": "execute_result"
    }
   ],
   "source": [
    "reviews_df.head()"
   ]
  },
  {
   "cell_type": "code",
   "execution_count": 68,
   "metadata": {
    "colab": {
     "base_uri": "https://localhost:8080/"
    },
    "id": "49CWLLUrVhFE",
    "outputId": "90d87d1f-62af-40cb-841f-30099bc5d167"
   },
   "outputs": [
    {
     "name": "stdout",
     "output_type": "stream",
     "text": [
      "<class 'pandas.core.frame.DataFrame'>\n",
      "RangeIndex: 246425 entries, 0 to 246424\n",
      "Data columns (total 8 columns):\n",
      " #   Column      Non-Null Count   Dtype  \n",
      "---  ------      --------------   -----  \n",
      " 0   name        246425 non-null  object \n",
      " 1   course_url  246425 non-null  object \n",
      " 2   course_id   246425 non-null  object \n",
      " 3   reviewers   246418 non-null  object \n",
      " 4   rating      246419 non-null  object \n",
      " 5   user_id     246424 non-null  object \n",
      " 6   Unnamed: 6  16721 non-null   float64\n",
      " 7   Unnamed: 7  7496 non-null    float64\n",
      "dtypes: float64(2), object(6)\n",
      "memory usage: 15.0+ MB\n"
     ]
    }
   ],
   "source": [
    "reviews_df.info()"
   ]
  },
  {
   "cell_type": "code",
   "execution_count": 69,
   "metadata": {},
   "outputs": [
    {
     "name": "stdout",
     "output_type": "stream",
     "text": [
      "<class 'pandas.core.frame.DataFrame'>\n",
      "RangeIndex: 246425 entries, 0 to 246424\n",
      "Data columns (total 6 columns):\n",
      " #   Column      Non-Null Count   Dtype \n",
      "---  ------      --------------   ----- \n",
      " 0   name        246425 non-null  object\n",
      " 1   course_url  246425 non-null  object\n",
      " 2   course_id   246425 non-null  object\n",
      " 3   reviewers   246418 non-null  object\n",
      " 4   rating      246419 non-null  object\n",
      " 5   user_id     246424 non-null  object\n",
      "dtypes: object(6)\n",
      "memory usage: 11.3+ MB\n"
     ]
    }
   ],
   "source": [
    "reviews_df = reviews_df.drop(columns=['Unnamed: 6', 'Unnamed: 7'])\n",
    "reviews_df.info()"
   ]
  },
  {
   "cell_type": "code",
   "execution_count": 70,
   "metadata": {
    "colab": {
     "base_uri": "https://localhost:8080/"
    },
    "id": "-KE-_HtBVjyi",
    "outputId": "384e2861-3d64-4c2a-bf5e-61056f94c792"
   },
   "outputs": [
    {
     "data": {
      "text/html": [
       "<div>\n",
       "<style scoped>\n",
       "    .dataframe tbody tr th:only-of-type {\n",
       "        vertical-align: middle;\n",
       "    }\n",
       "\n",
       "    .dataframe tbody tr th {\n",
       "        vertical-align: top;\n",
       "    }\n",
       "\n",
       "    .dataframe thead th {\n",
       "        text-align: right;\n",
       "    }\n",
       "</style>\n",
       "<table border=\"1\" class=\"dataframe\">\n",
       "  <thead>\n",
       "    <tr style=\"text-align: right;\">\n",
       "      <th></th>\n",
       "      <th>name</th>\n",
       "      <th>course_url</th>\n",
       "      <th>course_id</th>\n",
       "      <th>reviewers</th>\n",
       "      <th>rating</th>\n",
       "      <th>user_id</th>\n",
       "    </tr>\n",
       "  </thead>\n",
       "  <tbody>\n",
       "    <tr>\n",
       "      <th>count</th>\n",
       "      <td>246425</td>\n",
       "      <td>246425</td>\n",
       "      <td>246425</td>\n",
       "      <td>246418</td>\n",
       "      <td>246419</td>\n",
       "      <td>246424</td>\n",
       "    </tr>\n",
       "    <tr>\n",
       "      <th>unique</th>\n",
       "      <td>130</td>\n",
       "      <td>130</td>\n",
       "      <td>130</td>\n",
       "      <td>137722</td>\n",
       "      <td>8947</td>\n",
       "      <td>144918</td>\n",
       "    </tr>\n",
       "    <tr>\n",
       "      <th>top</th>\n",
       "      <td>Programming for Everybody (Getting Started wit...</td>\n",
       "      <td>https://www.coursera.org/learn/python</td>\n",
       "      <td>7</td>\n",
       "      <td>32</td>\n",
       "      <td>5</td>\n",
       "      <td>5</td>\n",
       "    </tr>\n",
       "    <tr>\n",
       "      <th>freq</th>\n",
       "      <td>14478</td>\n",
       "      <td>14478</td>\n",
       "      <td>14478</td>\n",
       "      <td>5978</td>\n",
       "      <td>170531</td>\n",
       "      <td>7405</td>\n",
       "    </tr>\n",
       "  </tbody>\n",
       "</table>\n",
       "</div>"
      ],
      "text/plain": [
       "                                                     name  \\\n",
       "count                                              246425   \n",
       "unique                                                130   \n",
       "top     Programming for Everybody (Getting Started wit...   \n",
       "freq                                                14478   \n",
       "\n",
       "                                   course_url  course_id  reviewers  rating  \\\n",
       "count                                  246425     246425     246418  246419   \n",
       "unique                                    130        130     137722    8947   \n",
       "top     https://www.coursera.org/learn/python          7         32       5   \n",
       "freq                                    14478      14478       5978  170531   \n",
       "\n",
       "        user_id  \n",
       "count    246424  \n",
       "unique   144918  \n",
       "top           5  \n",
       "freq       7405  "
      ]
     },
     "execution_count": 70,
     "metadata": {},
     "output_type": "execute_result"
    }
   ],
   "source": [
    "reviews_df.describe(include='all')"
   ]
  },
  {
   "cell_type": "code",
   "execution_count": 71,
   "metadata": {
    "colab": {
     "base_uri": "https://localhost:8080/"
    },
    "id": "u6S4RI7IVld1",
    "outputId": "a229a00d-0639-47ec-dc5f-9ed42ceeef37"
   },
   "outputs": [
    {
     "data": {
      "text/plain": [
       "55"
      ]
     },
     "execution_count": 71,
     "metadata": {},
     "output_type": "execute_result"
    }
   ],
   "source": [
    "reviews_df.duplicated().sum()"
   ]
  },
  {
   "cell_type": "code",
   "execution_count": 72,
   "metadata": {
    "colab": {
     "base_uri": "https://localhost:8080/"
    },
    "id": "LqDRlBmBVmiV",
    "outputId": "845b8510-c692-414d-acba-eac7da331013"
   },
   "outputs": [
    {
     "data": {
      "text/plain": [
       "name          0\n",
       "course_url    0\n",
       "course_id     0\n",
       "reviewers     7\n",
       "rating        6\n",
       "user_id       1\n",
       "dtype: int64"
      ]
     },
     "execution_count": 72,
     "metadata": {},
     "output_type": "execute_result"
    }
   ],
   "source": [
    "reviews_df.isnull().sum()"
   ]
  },
  {
   "cell_type": "code",
   "execution_count": 73,
   "metadata": {
    "colab": {
     "base_uri": "https://localhost:8080/"
    },
    "id": "nA0wcZsIVrmI",
    "outputId": "d538c8b9-5466-4fe3-deab-11b2e4f54009"
   },
   "outputs": [
    {
     "data": {
      "text/html": [
       "<div>\n",
       "<style scoped>\n",
       "    .dataframe tbody tr th:only-of-type {\n",
       "        vertical-align: middle;\n",
       "    }\n",
       "\n",
       "    .dataframe tbody tr th {\n",
       "        vertical-align: top;\n",
       "    }\n",
       "\n",
       "    .dataframe thead th {\n",
       "        text-align: right;\n",
       "    }\n",
       "</style>\n",
       "<table border=\"1\" class=\"dataframe\">\n",
       "  <thead>\n",
       "    <tr style=\"text-align: right;\">\n",
       "      <th></th>\n",
       "      <th>course_id</th>\n",
       "      <th>count</th>\n",
       "    </tr>\n",
       "  </thead>\n",
       "  <tbody>\n",
       "    <tr>\n",
       "      <th>0</th>\n",
       "      <td>7</td>\n",
       "      <td>14478</td>\n",
       "    </tr>\n",
       "    <tr>\n",
       "      <th>1</th>\n",
       "      <td>1</td>\n",
       "      <td>11818</td>\n",
       "    </tr>\n",
       "    <tr>\n",
       "      <th>2</th>\n",
       "      <td>12</td>\n",
       "      <td>11611</td>\n",
       "    </tr>\n",
       "    <tr>\n",
       "      <th>3</th>\n",
       "      <td>4</td>\n",
       "      <td>11204</td>\n",
       "    </tr>\n",
       "    <tr>\n",
       "      <th>4</th>\n",
       "      <td>26</td>\n",
       "      <td>10868</td>\n",
       "    </tr>\n",
       "    <tr>\n",
       "      <th>...</th>\n",
       "      <td>...</td>\n",
       "      <td>...</td>\n",
       "    </tr>\n",
       "    <tr>\n",
       "      <th>105</th>\n",
       "      <td>360</td>\n",
       "      <td>545</td>\n",
       "    </tr>\n",
       "    <tr>\n",
       "      <th>106</th>\n",
       "      <td>405</td>\n",
       "      <td>537</td>\n",
       "    </tr>\n",
       "    <tr>\n",
       "      <th>107</th>\n",
       "      <td>and Dictionaries</td>\n",
       "      <td>531</td>\n",
       "    </tr>\n",
       "    <tr>\n",
       "      <th>108</th>\n",
       "      <td>413</td>\n",
       "      <td>521</td>\n",
       "    </tr>\n",
       "    <tr>\n",
       "      <th>109</th>\n",
       "      <td>101</td>\n",
       "      <td>503</td>\n",
       "    </tr>\n",
       "  </tbody>\n",
       "</table>\n",
       "<p>110 rows × 2 columns</p>\n",
       "</div>"
      ],
      "text/plain": [
       "             course_id  count\n",
       "0                    7  14478\n",
       "1                    1  11818\n",
       "2                   12  11611\n",
       "3                    4  11204\n",
       "4                   26  10868\n",
       "..                 ...    ...\n",
       "105                360    545\n",
       "106                405    537\n",
       "107   and Dictionaries    531\n",
       "108                413    521\n",
       "109                101    503\n",
       "\n",
       "[110 rows x 2 columns]"
      ]
     },
     "execution_count": 73,
     "metadata": {},
     "output_type": "execute_result"
    }
   ],
   "source": [
    "num_of_reviews_by_course_df = reviews_df['course_id'].value_counts().reset_index()\n",
    "more_500_reviews_df = num_of_reviews_by_course_df[num_of_reviews_by_course_df['count'] > 500]\n",
    "more_500_reviews_df"
   ]
  },
  {
   "cell_type": "code",
   "execution_count": 74,
   "metadata": {},
   "outputs": [
    {
     "data": {
      "text/html": [
       "<div>\n",
       "<style scoped>\n",
       "    .dataframe tbody tr th:only-of-type {\n",
       "        vertical-align: middle;\n",
       "    }\n",
       "\n",
       "    .dataframe tbody tr th {\n",
       "        vertical-align: top;\n",
       "    }\n",
       "\n",
       "    .dataframe thead th {\n",
       "        text-align: right;\n",
       "    }\n",
       "</style>\n",
       "<table border=\"1\" class=\"dataframe\">\n",
       "  <thead>\n",
       "    <tr style=\"text-align: right;\">\n",
       "      <th></th>\n",
       "      <th>name</th>\n",
       "      <th>course_url</th>\n",
       "      <th>course_id</th>\n",
       "      <th>reviewers</th>\n",
       "      <th>rating</th>\n",
       "      <th>user_id</th>\n",
       "    </tr>\n",
       "  </thead>\n",
       "  <tbody>\n",
       "    <tr>\n",
       "      <th>0</th>\n",
       "      <td>Machine Learning</td>\n",
       "      <td>https://www.coursera.org/learn/machine-learning</td>\n",
       "      <td>1</td>\n",
       "      <td>Bruno C</td>\n",
       "      <td>1</td>\n",
       "      <td>1</td>\n",
       "    </tr>\n",
       "    <tr>\n",
       "      <th>1</th>\n",
       "      <td>Machine Learning</td>\n",
       "      <td>https://www.coursera.org/learn/machine-learning</td>\n",
       "      <td>1</td>\n",
       "      <td>Fadi</td>\n",
       "      <td>1</td>\n",
       "      <td>2</td>\n",
       "    </tr>\n",
       "    <tr>\n",
       "      <th>2</th>\n",
       "      <td>Machine Learning</td>\n",
       "      <td>https://www.coursera.org/learn/machine-learning</td>\n",
       "      <td>1</td>\n",
       "      <td>Mathew L</td>\n",
       "      <td>1</td>\n",
       "      <td>3</td>\n",
       "    </tr>\n",
       "    <tr>\n",
       "      <th>3</th>\n",
       "      <td>Machine Learning</td>\n",
       "      <td>https://www.coursera.org/learn/machine-learning</td>\n",
       "      <td>1</td>\n",
       "      <td>Rui C</td>\n",
       "      <td>1</td>\n",
       "      <td>4</td>\n",
       "    </tr>\n",
       "    <tr>\n",
       "      <th>4</th>\n",
       "      <td>Machine Learning</td>\n",
       "      <td>https://www.coursera.org/learn/machine-learning</td>\n",
       "      <td>1</td>\n",
       "      <td>Mehdi A</td>\n",
       "      <td>1</td>\n",
       "      <td>5</td>\n",
       "    </tr>\n",
       "    <tr>\n",
       "      <th>...</th>\n",
       "      <td>...</td>\n",
       "      <td>...</td>\n",
       "      <td>...</td>\n",
       "      <td>...</td>\n",
       "      <td>...</td>\n",
       "      <td>...</td>\n",
       "    </tr>\n",
       "    <tr>\n",
       "      <th>246387</th>\n",
       "      <td>Object Oriented Programming in Java</td>\n",
       "      <td>https://www.coursera.org/learn/object-oriented...</td>\n",
       "      <td>414</td>\n",
       "      <td>Zhao Y</td>\n",
       "      <td>5</td>\n",
       "      <td>60790</td>\n",
       "    </tr>\n",
       "    <tr>\n",
       "      <th>246399</th>\n",
       "      <td>Object Oriented Programming in Java</td>\n",
       "      <td>https://www.coursera.org/learn/object-oriented...</td>\n",
       "      <td>414</td>\n",
       "      <td>Ram P</td>\n",
       "      <td>5</td>\n",
       "      <td>9427</td>\n",
       "    </tr>\n",
       "    <tr>\n",
       "      <th>246404</th>\n",
       "      <td>Object Oriented Programming in Java</td>\n",
       "      <td>https://www.coursera.org/learn/object-oriented...</td>\n",
       "      <td>414</td>\n",
       "      <td>maripalli s</td>\n",
       "      <td>5</td>\n",
       "      <td>53546</td>\n",
       "    </tr>\n",
       "    <tr>\n",
       "      <th>246414</th>\n",
       "      <td>Object Oriented Programming in Java</td>\n",
       "      <td>https://www.coursera.org/learn/object-oriented...</td>\n",
       "      <td>414</td>\n",
       "      <td>Suraj M</td>\n",
       "      <td>5</td>\n",
       "      <td>38756</td>\n",
       "    </tr>\n",
       "    <tr>\n",
       "      <th>246424</th>\n",
       "      <td>Object Oriented Programming in Java</td>\n",
       "      <td>https://www.coursera.org/learn/object-oriented...</td>\n",
       "      <td>414</td>\n",
       "      <td>DARWIN G V</td>\n",
       "      <td>5</td>\n",
       "      <td>70492</td>\n",
       "    </tr>\n",
       "  </tbody>\n",
       "</table>\n",
       "<p>62547 rows × 6 columns</p>\n",
       "</div>"
      ],
      "text/plain": [
       "                                       name  \\\n",
       "0                          Machine Learning   \n",
       "1                          Machine Learning   \n",
       "2                          Machine Learning   \n",
       "3                          Machine Learning   \n",
       "4                          Machine Learning   \n",
       "...                                     ...   \n",
       "246387  Object Oriented Programming in Java   \n",
       "246399  Object Oriented Programming in Java   \n",
       "246404  Object Oriented Programming in Java   \n",
       "246414  Object Oriented Programming in Java   \n",
       "246424  Object Oriented Programming in Java   \n",
       "\n",
       "                                               course_url course_id  \\\n",
       "0         https://www.coursera.org/learn/machine-learning         1   \n",
       "1         https://www.coursera.org/learn/machine-learning         1   \n",
       "2         https://www.coursera.org/learn/machine-learning         1   \n",
       "3         https://www.coursera.org/learn/machine-learning         1   \n",
       "4         https://www.coursera.org/learn/machine-learning         1   \n",
       "...                                                   ...       ...   \n",
       "246387  https://www.coursera.org/learn/object-oriented...       414   \n",
       "246399  https://www.coursera.org/learn/object-oriented...       414   \n",
       "246404  https://www.coursera.org/learn/object-oriented...       414   \n",
       "246414  https://www.coursera.org/learn/object-oriented...       414   \n",
       "246424  https://www.coursera.org/learn/object-oriented...       414   \n",
       "\n",
       "          reviewers rating user_id  \n",
       "0           Bruno C      1       1  \n",
       "1              Fadi      1       2  \n",
       "2          Mathew L      1       3  \n",
       "3             Rui C      1       4  \n",
       "4           Mehdi A      1       5  \n",
       "...             ...    ...     ...  \n",
       "246387       Zhao Y      5   60790  \n",
       "246399        Ram P      5    9427  \n",
       "246404  maripalli s      5   53546  \n",
       "246414      Suraj M      5   38756  \n",
       "246424   DARWIN G V      5   70492  \n",
       "\n",
       "[62547 rows x 6 columns]"
      ]
     },
     "execution_count": 74,
     "metadata": {},
     "output_type": "execute_result"
    }
   ],
   "source": [
    "# Menghitung jumlah review per user_id\n",
    "num_of_reviews_by_user_df = reviews_df['user_id'].value_counts().reset_index()\n",
    "num_of_reviews_by_user_df.columns = ['user_id', 'count']\n",
    "\n",
    "# Memilih user_id dengan review >= 5\n",
    "valid_users_df = num_of_reviews_by_user_df[num_of_reviews_by_user_df['count'] >= 5]\n",
    "\n",
    "# Filter reviews_df dengan user_id yang valid\n",
    "filtered_reviews_df = reviews_df[reviews_df['user_id'].isin(valid_users_df['user_id'])]\n",
    "\n",
    "# Menampilkan hasil\n",
    "filtered_reviews_df\n"
   ]
  },
  {
   "cell_type": "code",
   "execution_count": 75,
   "metadata": {},
   "outputs": [
    {
     "name": "stderr",
     "output_type": "stream",
     "text": [
      "C:\\Users\\Tazkiiia\\AppData\\Local\\Temp\\ipykernel_25688\\637436855.py:4: SettingWithCopyWarning: \n",
      "A value is trying to be set on a copy of a slice from a DataFrame.\n",
      "Try using .loc[row_indexer,col_indexer] = value instead\n",
      "\n",
      "See the caveats in the documentation: https://pandas.pydata.org/pandas-docs/stable/user_guide/indexing.html#returning-a-view-versus-a-copy\n",
      "  filtered_reviews_df['rating'] = pd.to_numeric(filtered_reviews_df['rating'], errors='coerce')\n"
     ]
    },
    {
     "data": {
      "text/html": [
       "<div>\n",
       "<style scoped>\n",
       "    .dataframe tbody tr th:only-of-type {\n",
       "        vertical-align: middle;\n",
       "    }\n",
       "\n",
       "    .dataframe tbody tr th {\n",
       "        vertical-align: top;\n",
       "    }\n",
       "\n",
       "    .dataframe thead th {\n",
       "        text-align: right;\n",
       "    }\n",
       "</style>\n",
       "<table border=\"1\" class=\"dataframe\">\n",
       "  <thead>\n",
       "    <tr style=\"text-align: right;\">\n",
       "      <th></th>\n",
       "      <th>name</th>\n",
       "      <th>course_url</th>\n",
       "      <th>course_id</th>\n",
       "      <th>reviewers</th>\n",
       "      <th>rating</th>\n",
       "      <th>user_id</th>\n",
       "    </tr>\n",
       "  </thead>\n",
       "  <tbody>\n",
       "    <tr>\n",
       "      <th>0</th>\n",
       "      <td>Machine Learning</td>\n",
       "      <td>https://www.coursera.org/learn/machine-learning</td>\n",
       "      <td>1</td>\n",
       "      <td>Bruno C</td>\n",
       "      <td>1.0</td>\n",
       "      <td>1</td>\n",
       "    </tr>\n",
       "    <tr>\n",
       "      <th>1</th>\n",
       "      <td>Machine Learning</td>\n",
       "      <td>https://www.coursera.org/learn/machine-learning</td>\n",
       "      <td>1</td>\n",
       "      <td>Fadi</td>\n",
       "      <td>1.0</td>\n",
       "      <td>2</td>\n",
       "    </tr>\n",
       "    <tr>\n",
       "      <th>2</th>\n",
       "      <td>Machine Learning</td>\n",
       "      <td>https://www.coursera.org/learn/machine-learning</td>\n",
       "      <td>1</td>\n",
       "      <td>Mathew L</td>\n",
       "      <td>1.0</td>\n",
       "      <td>3</td>\n",
       "    </tr>\n",
       "    <tr>\n",
       "      <th>3</th>\n",
       "      <td>Machine Learning</td>\n",
       "      <td>https://www.coursera.org/learn/machine-learning</td>\n",
       "      <td>1</td>\n",
       "      <td>Rui C</td>\n",
       "      <td>1.0</td>\n",
       "      <td>4</td>\n",
       "    </tr>\n",
       "    <tr>\n",
       "      <th>4</th>\n",
       "      <td>Machine Learning</td>\n",
       "      <td>https://www.coursera.org/learn/machine-learning</td>\n",
       "      <td>1</td>\n",
       "      <td>Mehdi A</td>\n",
       "      <td>1.0</td>\n",
       "      <td>5</td>\n",
       "    </tr>\n",
       "    <tr>\n",
       "      <th>...</th>\n",
       "      <td>...</td>\n",
       "      <td>...</td>\n",
       "      <td>...</td>\n",
       "      <td>...</td>\n",
       "      <td>...</td>\n",
       "      <td>...</td>\n",
       "    </tr>\n",
       "    <tr>\n",
       "      <th>246387</th>\n",
       "      <td>Object Oriented Programming in Java</td>\n",
       "      <td>https://www.coursera.org/learn/object-oriented...</td>\n",
       "      <td>414</td>\n",
       "      <td>Zhao Y</td>\n",
       "      <td>5.0</td>\n",
       "      <td>60790</td>\n",
       "    </tr>\n",
       "    <tr>\n",
       "      <th>246399</th>\n",
       "      <td>Object Oriented Programming in Java</td>\n",
       "      <td>https://www.coursera.org/learn/object-oriented...</td>\n",
       "      <td>414</td>\n",
       "      <td>Ram P</td>\n",
       "      <td>5.0</td>\n",
       "      <td>9427</td>\n",
       "    </tr>\n",
       "    <tr>\n",
       "      <th>246404</th>\n",
       "      <td>Object Oriented Programming in Java</td>\n",
       "      <td>https://www.coursera.org/learn/object-oriented...</td>\n",
       "      <td>414</td>\n",
       "      <td>maripalli s</td>\n",
       "      <td>5.0</td>\n",
       "      <td>53546</td>\n",
       "    </tr>\n",
       "    <tr>\n",
       "      <th>246414</th>\n",
       "      <td>Object Oriented Programming in Java</td>\n",
       "      <td>https://www.coursera.org/learn/object-oriented...</td>\n",
       "      <td>414</td>\n",
       "      <td>Suraj M</td>\n",
       "      <td>5.0</td>\n",
       "      <td>38756</td>\n",
       "    </tr>\n",
       "    <tr>\n",
       "      <th>246424</th>\n",
       "      <td>Object Oriented Programming in Java</td>\n",
       "      <td>https://www.coursera.org/learn/object-oriented...</td>\n",
       "      <td>414</td>\n",
       "      <td>DARWIN G V</td>\n",
       "      <td>5.0</td>\n",
       "      <td>70492</td>\n",
       "    </tr>\n",
       "  </tbody>\n",
       "</table>\n",
       "<p>53323 rows × 6 columns</p>\n",
       "</div>"
      ],
      "text/plain": [
       "                                       name  \\\n",
       "0                          Machine Learning   \n",
       "1                          Machine Learning   \n",
       "2                          Machine Learning   \n",
       "3                          Machine Learning   \n",
       "4                          Machine Learning   \n",
       "...                                     ...   \n",
       "246387  Object Oriented Programming in Java   \n",
       "246399  Object Oriented Programming in Java   \n",
       "246404  Object Oriented Programming in Java   \n",
       "246414  Object Oriented Programming in Java   \n",
       "246424  Object Oriented Programming in Java   \n",
       "\n",
       "                                               course_url course_id  \\\n",
       "0         https://www.coursera.org/learn/machine-learning         1   \n",
       "1         https://www.coursera.org/learn/machine-learning         1   \n",
       "2         https://www.coursera.org/learn/machine-learning         1   \n",
       "3         https://www.coursera.org/learn/machine-learning         1   \n",
       "4         https://www.coursera.org/learn/machine-learning         1   \n",
       "...                                                   ...       ...   \n",
       "246387  https://www.coursera.org/learn/object-oriented...       414   \n",
       "246399  https://www.coursera.org/learn/object-oriented...       414   \n",
       "246404  https://www.coursera.org/learn/object-oriented...       414   \n",
       "246414  https://www.coursera.org/learn/object-oriented...       414   \n",
       "246424  https://www.coursera.org/learn/object-oriented...       414   \n",
       "\n",
       "          reviewers  rating user_id  \n",
       "0           Bruno C     1.0       1  \n",
       "1              Fadi     1.0       2  \n",
       "2          Mathew L     1.0       3  \n",
       "3             Rui C     1.0       4  \n",
       "4           Mehdi A     1.0       5  \n",
       "...             ...     ...     ...  \n",
       "246387       Zhao Y     5.0   60790  \n",
       "246399        Ram P     5.0    9427  \n",
       "246404  maripalli s     5.0   53546  \n",
       "246414      Suraj M     5.0   38756  \n",
       "246424   DARWIN G V     5.0   70492  \n",
       "\n",
       "[53323 rows x 6 columns]"
      ]
     },
     "execution_count": 75,
     "metadata": {},
     "output_type": "execute_result"
    }
   ],
   "source": [
    "# Menghapus data abnormal\n",
    "def remove_abnormal_data(filtered_reviews_df):\n",
    "    # Konversi kolom rating ke float, ubah non-angka menjadi NaN\n",
    "    filtered_reviews_df['rating'] = pd.to_numeric(filtered_reviews_df['rating'], errors='coerce')\n",
    "    \n",
    "    # Hanya menyertakan data dengan rating valid (1-5)\n",
    "    filtered_reviews_df = filtered_reviews_df[(filtered_reviews_df['rating'] >= 1) & (filtered_reviews_df['rating'] <= 5)]\n",
    "    \n",
    "    # Menghapus baris dengan kolom penting yang kosong\n",
    "    filtered_reviews_df = filtered_reviews_df.dropna(subset=['name', 'course_url', 'course_id', 'reviewers', 'rating', 'user_id'])\n",
    "    \n",
    "    # # Menghapus baris dengan teks terlalu pendek di kolom tertentu (opsional)\n",
    "    # if 'reviews' in filtered_reviews_df.columns:\n",
    "    #     filtered_reviews_df = filtered_reviews_df[filtered_reviews_df['reviews'].notna() & (filtered_reviews_df['reviews'].str.len() > 5)]\n",
    "    # filtered_reviews_df = filtered_reviews_df[filtered_reviews_df['name'].notna() & (filtered_reviews_df['name'].str.len() > 10)]\n",
    "    \n",
    "    return filtered_reviews_df\n",
    "\n",
    "# Bersihkan data\n",
    "filtered_reviews_df = remove_abnormal_data(filtered_reviews_df)\n",
    "\n",
    "# Menampilkan hasil\n",
    "filtered_reviews_df\n"
   ]
  },
  {
   "cell_type": "code",
   "execution_count": 76,
   "metadata": {},
   "outputs": [
    {
     "name": "stdout",
     "output_type": "stream",
     "text": [
      "<class 'pandas.core.frame.DataFrame'>\n",
      "Index: 53323 entries, 0 to 246424\n",
      "Data columns (total 6 columns):\n",
      " #   Column      Non-Null Count  Dtype  \n",
      "---  ------      --------------  -----  \n",
      " 0   name        53323 non-null  object \n",
      " 1   course_url  53323 non-null  object \n",
      " 2   course_id   53323 non-null  object \n",
      " 3   reviewers   53323 non-null  object \n",
      " 4   rating      53323 non-null  float64\n",
      " 5   user_id     53323 non-null  object \n",
      "dtypes: float64(1), object(5)\n",
      "memory usage: 2.8+ MB\n"
     ]
    }
   ],
   "source": [
    "filtered_reviews_df.info()"
   ]
  },
  {
   "cell_type": "code",
   "execution_count": 77,
   "metadata": {},
   "outputs": [],
   "source": [
    "filtered_reviews_df.to_csv('nyoba.csv', index=False)"
   ]
  },
  {
   "cell_type": "code",
   "execution_count": 78,
   "metadata": {},
   "outputs": [
    {
     "name": "stderr",
     "output_type": "stream",
     "text": [
      "C:\\Users\\Tazkiiia\\AppData\\Local\\Temp\\ipykernel_25688\\3507023539.py:3: SettingWithCopyWarning: \n",
      "A value is trying to be set on a copy of a slice from a DataFrame.\n",
      "Try using .loc[row_indexer,col_indexer] = value instead\n",
      "\n",
      "See the caveats in the documentation: https://pandas.pydata.org/pandas-docs/stable/user_guide/indexing.html#returning-a-view-versus-a-copy\n",
      "  filtered_reviews_df['course_id'] = filtered_reviews_df['course_id'].astype(int)\n"
     ]
    },
    {
     "data": {
      "text/html": [
       "<div>\n",
       "<style scoped>\n",
       "    .dataframe tbody tr th:only-of-type {\n",
       "        vertical-align: middle;\n",
       "    }\n",
       "\n",
       "    .dataframe tbody tr th {\n",
       "        vertical-align: top;\n",
       "    }\n",
       "\n",
       "    .dataframe thead th {\n",
       "        text-align: right;\n",
       "    }\n",
       "</style>\n",
       "<table border=\"1\" class=\"dataframe\">\n",
       "  <thead>\n",
       "    <tr style=\"text-align: right;\">\n",
       "      <th></th>\n",
       "      <th>course_id</th>\n",
       "      <th>count</th>\n",
       "    </tr>\n",
       "  </thead>\n",
       "  <tbody>\n",
       "    <tr>\n",
       "      <th>0</th>\n",
       "      <td>7</td>\n",
       "      <td>14478</td>\n",
       "    </tr>\n",
       "    <tr>\n",
       "      <th>1</th>\n",
       "      <td>1</td>\n",
       "      <td>11818</td>\n",
       "    </tr>\n",
       "    <tr>\n",
       "      <th>2</th>\n",
       "      <td>12</td>\n",
       "      <td>11611</td>\n",
       "    </tr>\n",
       "    <tr>\n",
       "      <th>3</th>\n",
       "      <td>4</td>\n",
       "      <td>11204</td>\n",
       "    </tr>\n",
       "    <tr>\n",
       "      <th>4</th>\n",
       "      <td>26</td>\n",
       "      <td>10868</td>\n",
       "    </tr>\n",
       "    <tr>\n",
       "      <th>...</th>\n",
       "      <td>...</td>\n",
       "      <td>...</td>\n",
       "    </tr>\n",
       "    <tr>\n",
       "      <th>125</th>\n",
       "      <td>239</td>\n",
       "      <td>223</td>\n",
       "    </tr>\n",
       "    <tr>\n",
       "      <th>126</th>\n",
       "      <td>384</td>\n",
       "      <td>215</td>\n",
       "    </tr>\n",
       "    <tr>\n",
       "      <th>127</th>\n",
       "      <td>214</td>\n",
       "      <td>198</td>\n",
       "    </tr>\n",
       "    <tr>\n",
       "      <th>128</th>\n",
       "      <td>213</td>\n",
       "      <td>191</td>\n",
       "    </tr>\n",
       "    <tr>\n",
       "      <th>129</th>\n",
       "      <td>221</td>\n",
       "      <td>183</td>\n",
       "    </tr>\n",
       "  </tbody>\n",
       "</table>\n",
       "<p>121 rows × 2 columns</p>\n",
       "</div>"
      ],
      "text/plain": [
       "     course_id  count\n",
       "0            7  14478\n",
       "1            1  11818\n",
       "2           12  11611\n",
       "3            4  11204\n",
       "4           26  10868\n",
       "..         ...    ...\n",
       "125        239    223\n",
       "126        384    215\n",
       "127        214    198\n",
       "128        213    191\n",
       "129        221    183\n",
       "\n",
       "[121 rows x 2 columns]"
      ]
     },
     "execution_count": 78,
     "metadata": {},
     "output_type": "execute_result"
    }
   ],
   "source": [
    "num_of_reviews_by_course_df['course_id'] = num_of_reviews_by_course_df['course_id'].astype(str)\n",
    "filtered_reviews_df = num_of_reviews_by_course_df[num_of_reviews_by_course_df['course_id'].str.isdigit()]\n",
    "filtered_reviews_df['course_id'] = filtered_reviews_df['course_id'].astype(int)\n",
    "filtered_reviews_df\n"
   ]
  },
  {
   "cell_type": "code",
   "execution_count": 79,
   "metadata": {},
   "outputs": [
    {
     "data": {
      "text/plain": [
       "121"
      ]
     },
     "execution_count": 79,
     "metadata": {},
     "output_type": "execute_result"
    }
   ],
   "source": [
    "filtered_reviews_df['course_id'].nunique()"
   ]
  },
  {
   "cell_type": "markdown",
   "metadata": {
    "id": "tpL7FGdyVvcM"
   },
   "source": [
    "# Data Cleaning"
   ]
  },
  {
   "cell_type": "code",
   "execution_count": 80,
   "metadata": {
    "colab": {
     "base_uri": "https://localhost:8080/"
    },
    "id": "V4xd9yZEVuye",
    "outputId": "61cbe338-0a0b-473c-e677-9284d655080e"
   },
   "outputs": [
    {
     "ename": "KeyError",
     "evalue": "\"['reviewers', 'rating'] not in index\"",
     "output_type": "error",
     "traceback": [
      "\u001b[1;31m---------------------------------------------------------------------------\u001b[0m",
      "\u001b[1;31mKeyError\u001b[0m                                  Traceback (most recent call last)",
      "Cell \u001b[1;32mIn[80], line 1\u001b[0m\n\u001b[1;32m----> 1\u001b[0m filtered_reviews_df \u001b[38;5;241m=\u001b[39m \u001b[43mfiltered_reviews_df\u001b[49m\u001b[43m[\u001b[49m\u001b[43m[\u001b[49m\u001b[38;5;124;43m'\u001b[39;49m\u001b[38;5;124;43mreviewers\u001b[39;49m\u001b[38;5;124;43m'\u001b[39;49m\u001b[43m,\u001b[49m\u001b[38;5;124;43m'\u001b[39;49m\u001b[38;5;124;43mrating\u001b[39;49m\u001b[38;5;124;43m'\u001b[39;49m\u001b[43m,\u001b[49m\u001b[38;5;124;43m'\u001b[39;49m\u001b[38;5;124;43mcourse_id\u001b[39;49m\u001b[38;5;124;43m'\u001b[39;49m\u001b[43m]\u001b[49m\u001b[43m]\u001b[49m\u001b[38;5;241m.\u001b[39mcopy()\n\u001b[0;32m      3\u001b[0m \u001b[38;5;66;03m# Ambil kursus yang hanya memiliki lebih dari 500 reviews\u001b[39;00m\n\u001b[0;32m      4\u001b[0m filtered_reviews_df \u001b[38;5;241m=\u001b[39m filtered_reviews_df[filtered_reviews_df[\u001b[38;5;124m'\u001b[39m\u001b[38;5;124mcourse_id\u001b[39m\u001b[38;5;124m'\u001b[39m]\\\n\u001b[0;32m      5\u001b[0m                                 \u001b[38;5;241m.\u001b[39misin(\u001b[38;5;28mset\u001b[39m(more_500_reviews_df[\u001b[38;5;124m'\u001b[39m\u001b[38;5;124mcourse_id\u001b[39m\u001b[38;5;124m'\u001b[39m]))]\n",
      "File \u001b[1;32mc:\\Users\\Tazkiiia\\AppData\\Local\\Programs\\Python\\Python310\\lib\\site-packages\\pandas\\core\\frame.py:4108\u001b[0m, in \u001b[0;36mDataFrame.__getitem__\u001b[1;34m(self, key)\u001b[0m\n\u001b[0;32m   4106\u001b[0m     \u001b[38;5;28;01mif\u001b[39;00m is_iterator(key):\n\u001b[0;32m   4107\u001b[0m         key \u001b[38;5;241m=\u001b[39m \u001b[38;5;28mlist\u001b[39m(key)\n\u001b[1;32m-> 4108\u001b[0m     indexer \u001b[38;5;241m=\u001b[39m \u001b[38;5;28;43mself\u001b[39;49m\u001b[38;5;241;43m.\u001b[39;49m\u001b[43mcolumns\u001b[49m\u001b[38;5;241;43m.\u001b[39;49m\u001b[43m_get_indexer_strict\u001b[49m\u001b[43m(\u001b[49m\u001b[43mkey\u001b[49m\u001b[43m,\u001b[49m\u001b[43m \u001b[49m\u001b[38;5;124;43m\"\u001b[39;49m\u001b[38;5;124;43mcolumns\u001b[39;49m\u001b[38;5;124;43m\"\u001b[39;49m\u001b[43m)\u001b[49m[\u001b[38;5;241m1\u001b[39m]\n\u001b[0;32m   4110\u001b[0m \u001b[38;5;66;03m# take() does not accept boolean indexers\u001b[39;00m\n\u001b[0;32m   4111\u001b[0m \u001b[38;5;28;01mif\u001b[39;00m \u001b[38;5;28mgetattr\u001b[39m(indexer, \u001b[38;5;124m\"\u001b[39m\u001b[38;5;124mdtype\u001b[39m\u001b[38;5;124m\"\u001b[39m, \u001b[38;5;28;01mNone\u001b[39;00m) \u001b[38;5;241m==\u001b[39m \u001b[38;5;28mbool\u001b[39m:\n",
      "File \u001b[1;32mc:\\Users\\Tazkiiia\\AppData\\Local\\Programs\\Python\\Python310\\lib\\site-packages\\pandas\\core\\indexes\\base.py:6200\u001b[0m, in \u001b[0;36mIndex._get_indexer_strict\u001b[1;34m(self, key, axis_name)\u001b[0m\n\u001b[0;32m   6197\u001b[0m \u001b[38;5;28;01melse\u001b[39;00m:\n\u001b[0;32m   6198\u001b[0m     keyarr, indexer, new_indexer \u001b[38;5;241m=\u001b[39m \u001b[38;5;28mself\u001b[39m\u001b[38;5;241m.\u001b[39m_reindex_non_unique(keyarr)\n\u001b[1;32m-> 6200\u001b[0m \u001b[38;5;28;43mself\u001b[39;49m\u001b[38;5;241;43m.\u001b[39;49m\u001b[43m_raise_if_missing\u001b[49m\u001b[43m(\u001b[49m\u001b[43mkeyarr\u001b[49m\u001b[43m,\u001b[49m\u001b[43m \u001b[49m\u001b[43mindexer\u001b[49m\u001b[43m,\u001b[49m\u001b[43m \u001b[49m\u001b[43maxis_name\u001b[49m\u001b[43m)\u001b[49m\n\u001b[0;32m   6202\u001b[0m keyarr \u001b[38;5;241m=\u001b[39m \u001b[38;5;28mself\u001b[39m\u001b[38;5;241m.\u001b[39mtake(indexer)\n\u001b[0;32m   6203\u001b[0m \u001b[38;5;28;01mif\u001b[39;00m \u001b[38;5;28misinstance\u001b[39m(key, Index):\n\u001b[0;32m   6204\u001b[0m     \u001b[38;5;66;03m# GH 42790 - Preserve name from an Index\u001b[39;00m\n",
      "File \u001b[1;32mc:\\Users\\Tazkiiia\\AppData\\Local\\Programs\\Python\\Python310\\lib\\site-packages\\pandas\\core\\indexes\\base.py:6252\u001b[0m, in \u001b[0;36mIndex._raise_if_missing\u001b[1;34m(self, key, indexer, axis_name)\u001b[0m\n\u001b[0;32m   6249\u001b[0m     \u001b[38;5;28;01mraise\u001b[39;00m \u001b[38;5;167;01mKeyError\u001b[39;00m(\u001b[38;5;124mf\u001b[39m\u001b[38;5;124m\"\u001b[39m\u001b[38;5;124mNone of [\u001b[39m\u001b[38;5;132;01m{\u001b[39;00mkey\u001b[38;5;132;01m}\u001b[39;00m\u001b[38;5;124m] are in the [\u001b[39m\u001b[38;5;132;01m{\u001b[39;00maxis_name\u001b[38;5;132;01m}\u001b[39;00m\u001b[38;5;124m]\u001b[39m\u001b[38;5;124m\"\u001b[39m)\n\u001b[0;32m   6251\u001b[0m not_found \u001b[38;5;241m=\u001b[39m \u001b[38;5;28mlist\u001b[39m(ensure_index(key)[missing_mask\u001b[38;5;241m.\u001b[39mnonzero()[\u001b[38;5;241m0\u001b[39m]]\u001b[38;5;241m.\u001b[39munique())\n\u001b[1;32m-> 6252\u001b[0m \u001b[38;5;28;01mraise\u001b[39;00m \u001b[38;5;167;01mKeyError\u001b[39;00m(\u001b[38;5;124mf\u001b[39m\u001b[38;5;124m\"\u001b[39m\u001b[38;5;132;01m{\u001b[39;00mnot_found\u001b[38;5;132;01m}\u001b[39;00m\u001b[38;5;124m not in index\u001b[39m\u001b[38;5;124m\"\u001b[39m)\n",
      "\u001b[1;31mKeyError\u001b[0m: \"['reviewers', 'rating'] not in index\""
     ]
    }
   ],
   "source": [
    "filtered_reviews_df = filtered_reviews_df[['reviewers','rating','course_id']].copy()\n",
    "\n",
    "# Ambil kursus yang hanya memiliki lebih dari 500 reviews\n",
    "filtered_reviews_df = filtered_reviews_df[filtered_reviews_df['course_id']\\\n",
    "                                .isin(set(more_500_reviews_df['course_id']))]\n",
    "\n",
    "filtered_reviews_df.dropna(inplace=True)\n",
    "\n",
    "# Hapus data duplikat\n",
    "filtered_reviews_df.drop_duplicates(inplace=True)\n",
    "\n",
    "filtered_reviews_df.head()"
   ]
  },
  {
   "cell_type": "code",
   "execution_count": null,
   "metadata": {
    "colab": {
     "base_uri": "https://localhost:8080/"
    },
    "id": "fPi9WmAIV2C2",
    "outputId": "838977d5-579d-41a6-c3a5-fd6d641b02f0"
   },
   "outputs": [
    {
     "data": {
      "text/plain": [
       "(232578, 3)"
      ]
     },
     "execution_count": 95,
     "metadata": {},
     "output_type": "execute_result"
    }
   ],
   "source": [
    "filtered_reviews_df.shape"
   ]
  },
  {
   "cell_type": "code",
   "execution_count": null,
   "metadata": {
    "colab": {
     "base_uri": "https://localhost:8080/"
    },
    "id": "gxCfxjX8V3sE",
    "outputId": "9bb3395b-303e-43aa-febc-35be5d456dde"
   },
   "outputs": [
    {
     "data": {
      "text/plain": [
       "110"
      ]
     },
     "execution_count": 96,
     "metadata": {},
     "output_type": "execute_result"
    }
   ],
   "source": [
    "filtered_reviews_df['course_id'].nunique()"
   ]
  },
  {
   "cell_type": "code",
   "execution_count": 97,
   "metadata": {
    "colab": {
     "base_uri": "https://localhost:8080/"
    },
    "id": "y7SrGSJxV8kW",
    "outputId": "7c32a745-4d20-45d3-d7f2-eafb43205915"
   },
   "outputs": [
    {
     "data": {
      "text/html": [
       "<div>\n",
       "<style scoped>\n",
       "    .dataframe tbody tr th:only-of-type {\n",
       "        vertical-align: middle;\n",
       "    }\n",
       "\n",
       "    .dataframe tbody tr th {\n",
       "        vertical-align: top;\n",
       "    }\n",
       "\n",
       "    .dataframe thead th {\n",
       "        text-align: right;\n",
       "    }\n",
       "</style>\n",
       "<table border=\"1\" class=\"dataframe\">\n",
       "  <thead>\n",
       "    <tr style=\"text-align: right;\">\n",
       "      <th></th>\n",
       "      <th>name</th>\n",
       "      <th>course_url</th>\n",
       "      <th>course_id</th>\n",
       "      <th>reviewers</th>\n",
       "      <th>rating</th>\n",
       "    </tr>\n",
       "  </thead>\n",
       "  <tbody>\n",
       "    <tr>\n",
       "      <th>0</th>\n",
       "      <td>AI For Everyone</td>\n",
       "      <td>https://www.coursera.org/learn/ai-for-everyone</td>\n",
       "      <td>9</td>\n",
       "      <td>Jean-Philippe B</td>\n",
       "      <td>1</td>\n",
       "    </tr>\n",
       "    <tr>\n",
       "      <th>1</th>\n",
       "      <td>AI For Everyone</td>\n",
       "      <td>https://www.coursera.org/learn/ai-for-everyone</td>\n",
       "      <td>9</td>\n",
       "      <td>Jelle F H</td>\n",
       "      <td>1</td>\n",
       "    </tr>\n",
       "    <tr>\n",
       "      <th>2</th>\n",
       "      <td>AI For Everyone</td>\n",
       "      <td>https://www.coursera.org/learn/ai-for-everyone</td>\n",
       "      <td>9</td>\n",
       "      <td>Sophie C</td>\n",
       "      <td>1</td>\n",
       "    </tr>\n",
       "    <tr>\n",
       "      <th>3</th>\n",
       "      <td>AI For Everyone</td>\n",
       "      <td>https://www.coursera.org/learn/ai-for-everyone</td>\n",
       "      <td>9</td>\n",
       "      <td>Binay S</td>\n",
       "      <td>1</td>\n",
       "    </tr>\n",
       "    <tr>\n",
       "      <th>4</th>\n",
       "      <td>AI For Everyone</td>\n",
       "      <td>https://www.coursera.org/learn/ai-for-everyone</td>\n",
       "      <td>9</td>\n",
       "      <td>Mariyada K</td>\n",
       "      <td>1</td>\n",
       "    </tr>\n",
       "  </tbody>\n",
       "</table>\n",
       "</div>"
      ],
      "text/plain": [
       "              name                                      course_url course_id  \\\n",
       "0  AI For Everyone  https://www.coursera.org/learn/ai-for-everyone         9   \n",
       "1  AI For Everyone  https://www.coursera.org/learn/ai-for-everyone         9   \n",
       "2  AI For Everyone  https://www.coursera.org/learn/ai-for-everyone         9   \n",
       "3  AI For Everyone  https://www.coursera.org/learn/ai-for-everyone         9   \n",
       "4  AI For Everyone  https://www.coursera.org/learn/ai-for-everyone         9   \n",
       "\n",
       "         reviewers rating  \n",
       "0  Jean-Philippe B      1  \n",
       "1        Jelle F H      1  \n",
       "2         Sophie C      1  \n",
       "3          Binay S      1  \n",
       "4      Mariyada K       1  "
      ]
     },
     "execution_count": 97,
     "metadata": {},
     "output_type": "execute_result"
    }
   ],
   "source": [
    "merged_df = pd.merge(courses_df[['name','course_url','course_id']],\n",
    "                     filtered_reviews_df,\n",
    "                     on='course_id')\n",
    "\n",
    "merged_df.head()"
   ]
  },
  {
   "cell_type": "markdown",
   "metadata": {
    "id": "GEgmiwXCV7LB"
   },
   "source": [
    "# Data Preparation\n",
    "\n",
    "run start from here"
   ]
  },
  {
   "cell_type": "code",
   "execution_count": 81,
   "metadata": {},
   "outputs": [
    {
     "data": {
      "text/html": [
       "<div>\n",
       "<style scoped>\n",
       "    .dataframe tbody tr th:only-of-type {\n",
       "        vertical-align: middle;\n",
       "    }\n",
       "\n",
       "    .dataframe tbody tr th {\n",
       "        vertical-align: top;\n",
       "    }\n",
       "\n",
       "    .dataframe thead th {\n",
       "        text-align: right;\n",
       "    }\n",
       "</style>\n",
       "<table border=\"1\" class=\"dataframe\">\n",
       "  <thead>\n",
       "    <tr style=\"text-align: right;\">\n",
       "      <th></th>\n",
       "      <th>name</th>\n",
       "      <th>course_url</th>\n",
       "      <th>course_id</th>\n",
       "      <th>reviewers</th>\n",
       "      <th>rating</th>\n",
       "      <th>user_id</th>\n",
       "    </tr>\n",
       "  </thead>\n",
       "  <tbody>\n",
       "    <tr>\n",
       "      <th>0</th>\n",
       "      <td>Machine Learning</td>\n",
       "      <td>https://www.coursera.org/learn/machine-learning</td>\n",
       "      <td>1</td>\n",
       "      <td>Bruno C</td>\n",
       "      <td>1.0</td>\n",
       "      <td>1</td>\n",
       "    </tr>\n",
       "    <tr>\n",
       "      <th>1</th>\n",
       "      <td>Machine Learning</td>\n",
       "      <td>https://www.coursera.org/learn/machine-learning</td>\n",
       "      <td>1</td>\n",
       "      <td>Fadi</td>\n",
       "      <td>1.0</td>\n",
       "      <td>2</td>\n",
       "    </tr>\n",
       "    <tr>\n",
       "      <th>2</th>\n",
       "      <td>Machine Learning</td>\n",
       "      <td>https://www.coursera.org/learn/machine-learning</td>\n",
       "      <td>1</td>\n",
       "      <td>Mathew L</td>\n",
       "      <td>1.0</td>\n",
       "      <td>3</td>\n",
       "    </tr>\n",
       "    <tr>\n",
       "      <th>3</th>\n",
       "      <td>Machine Learning</td>\n",
       "      <td>https://www.coursera.org/learn/machine-learning</td>\n",
       "      <td>1</td>\n",
       "      <td>Rui C</td>\n",
       "      <td>1.0</td>\n",
       "      <td>4</td>\n",
       "    </tr>\n",
       "    <tr>\n",
       "      <th>4</th>\n",
       "      <td>Machine Learning</td>\n",
       "      <td>https://www.coursera.org/learn/machine-learning</td>\n",
       "      <td>1</td>\n",
       "      <td>Mehdi A</td>\n",
       "      <td>1.0</td>\n",
       "      <td>5</td>\n",
       "    </tr>\n",
       "  </tbody>\n",
       "</table>\n",
       "</div>"
      ],
      "text/plain": [
       "               name                                       course_url  \\\n",
       "0  Machine Learning  https://www.coursera.org/learn/machine-learning   \n",
       "1  Machine Learning  https://www.coursera.org/learn/machine-learning   \n",
       "2  Machine Learning  https://www.coursera.org/learn/machine-learning   \n",
       "3  Machine Learning  https://www.coursera.org/learn/machine-learning   \n",
       "4  Machine Learning  https://www.coursera.org/learn/machine-learning   \n",
       "\n",
       "  course_id reviewers  rating  user_id  \n",
       "0         1   Bruno C     1.0        1  \n",
       "1         1      Fadi     1.0        2  \n",
       "2         1  Mathew L     1.0        3  \n",
       "3         1     Rui C     1.0        4  \n",
       "4         1   Mehdi A     1.0        5  "
      ]
     },
     "execution_count": 81,
     "metadata": {},
     "output_type": "execute_result"
    }
   ],
   "source": [
    "data_prep_df = pd.read_csv(r'D:\\Bismillah SKRIPSIIIII\\REVISI\\model\\nyoba.csv')\n",
    "data_prep_df.head()"
   ]
  },
  {
   "cell_type": "code",
   "execution_count": 82,
   "metadata": {},
   "outputs": [],
   "source": [
    "data_prep_df = data_prep_df.copy()\n",
    "\n",
    "users_list = data_prep_df['reviewers'].unique().tolist()\n",
    "courses_list = data_prep_df['course_id'].unique().tolist()\n",
    "\n",
    "# Encode users dan courses\n",
    "users_encoded = {user: i+1 for i, user in enumerate(users_list)}\n",
    "courses_encoded = {course: i+1 for i, course in enumerate(courses_list)}\n",
    "\n",
    "# Decode users dan courses\n",
    "users_decoded = {i+1: user for i, user in enumerate(users_list)}\n",
    "courses_decoded = {i+1: course for i, course in enumerate(courses_list)}"
   ]
  },
  {
   "cell_type": "code",
   "execution_count": 83,
   "metadata": {
    "colab": {
     "base_uri": "https://localhost:8080/"
    },
    "id": "YqxfbqkIV_2A",
    "outputId": "535e8226-3f7d-4aae-d103-4a7c29f7a7a5"
   },
   "outputs": [
    {
     "data": {
      "text/html": [
       "<div>\n",
       "<style scoped>\n",
       "    .dataframe tbody tr th:only-of-type {\n",
       "        vertical-align: middle;\n",
       "    }\n",
       "\n",
       "    .dataframe tbody tr th {\n",
       "        vertical-align: top;\n",
       "    }\n",
       "\n",
       "    .dataframe thead th {\n",
       "        text-align: right;\n",
       "    }\n",
       "</style>\n",
       "<table border=\"1\" class=\"dataframe\">\n",
       "  <thead>\n",
       "    <tr style=\"text-align: right;\">\n",
       "      <th></th>\n",
       "      <th>name</th>\n",
       "      <th>course_url</th>\n",
       "      <th>course_id</th>\n",
       "      <th>reviewers</th>\n",
       "      <th>rating</th>\n",
       "      <th>user_id</th>\n",
       "    </tr>\n",
       "  </thead>\n",
       "  <tbody>\n",
       "    <tr>\n",
       "      <th>0</th>\n",
       "      <td>Machine Learning</td>\n",
       "      <td>https://www.coursera.org/learn/machine-learning</td>\n",
       "      <td>1</td>\n",
       "      <td>Bruno C</td>\n",
       "      <td>1.0</td>\n",
       "      <td>1</td>\n",
       "    </tr>\n",
       "    <tr>\n",
       "      <th>1</th>\n",
       "      <td>Machine Learning</td>\n",
       "      <td>https://www.coursera.org/learn/machine-learning</td>\n",
       "      <td>1</td>\n",
       "      <td>Fadi</td>\n",
       "      <td>1.0</td>\n",
       "      <td>2</td>\n",
       "    </tr>\n",
       "    <tr>\n",
       "      <th>2</th>\n",
       "      <td>Machine Learning</td>\n",
       "      <td>https://www.coursera.org/learn/machine-learning</td>\n",
       "      <td>1</td>\n",
       "      <td>Mathew L</td>\n",
       "      <td>1.0</td>\n",
       "      <td>3</td>\n",
       "    </tr>\n",
       "    <tr>\n",
       "      <th>3</th>\n",
       "      <td>Machine Learning</td>\n",
       "      <td>https://www.coursera.org/learn/machine-learning</td>\n",
       "      <td>1</td>\n",
       "      <td>Rui C</td>\n",
       "      <td>1.0</td>\n",
       "      <td>4</td>\n",
       "    </tr>\n",
       "    <tr>\n",
       "      <th>4</th>\n",
       "      <td>Machine Learning</td>\n",
       "      <td>https://www.coursera.org/learn/machine-learning</td>\n",
       "      <td>1</td>\n",
       "      <td>Mehdi A</td>\n",
       "      <td>1.0</td>\n",
       "      <td>5</td>\n",
       "    </tr>\n",
       "  </tbody>\n",
       "</table>\n",
       "</div>"
      ],
      "text/plain": [
       "               name                                       course_url  \\\n",
       "0  Machine Learning  https://www.coursera.org/learn/machine-learning   \n",
       "1  Machine Learning  https://www.coursera.org/learn/machine-learning   \n",
       "2  Machine Learning  https://www.coursera.org/learn/machine-learning   \n",
       "3  Machine Learning  https://www.coursera.org/learn/machine-learning   \n",
       "4  Machine Learning  https://www.coursera.org/learn/machine-learning   \n",
       "\n",
       "   course_id reviewers  rating  user_id  \n",
       "0          1   Bruno C     1.0        1  \n",
       "1          1      Fadi     1.0        2  \n",
       "2          1  Mathew L     1.0        3  \n",
       "3          1     Rui C     1.0        4  \n",
       "4          1   Mehdi A     1.0        5  "
      ]
     },
     "execution_count": 83,
     "metadata": {},
     "output_type": "execute_result"
    }
   ],
   "source": [
    "data_prep_df = data_prep_df.copy()\n",
    "data_prep_df['user_id'] = data_prep_df['reviewers'].map(users_encoded)\n",
    "data_prep_df['course_id'] = data_prep_df['course_id'].map(courses_encoded)\n",
    "\n",
    "data_prep_df.head()"
   ]
  },
  {
   "cell_type": "code",
   "execution_count": 84,
   "metadata": {},
   "outputs": [
    {
     "name": "stdout",
     "output_type": "stream",
     "text": [
      "Number of User: 6317\n",
      "Number of Course: 122\n",
      "Min Rating: 1.0\n",
      "Max Rating: 5.0\n"
     ]
    }
   ],
   "source": [
    "def is_valid_rating(value):\n",
    "    try:\n",
    "        value = float(value)\n",
    "        return 1 <= value <= 5\n",
    "    except ValueError:\n",
    "        return False\n",
    "\n",
    "data_prep_df = data_prep_df[data_prep_df['rating'].apply(is_valid_rating)]\n",
    "\n",
    "data_prep_df['rating'] = data_prep_df['rating'].astype(np.float32)\n",
    "\n",
    "# Menentukan jumlah pengguna, jumlah kursus, min, dan max rating\n",
    "users_encoded = data_prep_df['user_id'].unique()\n",
    "courses_encoded = data_prep_df['course_id'].unique()\n",
    "\n",
    "num_users = len(users_encoded)\n",
    "num_courses = len(courses_encoded)\n",
    "\n",
    "min_rating = min(data_prep_df['rating'])\n",
    "max_rating = max(data_prep_df['rating'])\n",
    "\n",
    "print(f'Number of User: {num_users}\\nNumber of Course: {num_courses}\\nMin Rating: {min_rating}\\nMax Rating: {max_rating}')\n"
   ]
  },
  {
   "cell_type": "code",
   "execution_count": 85,
   "metadata": {
    "colab": {
     "base_uri": "https://localhost:8080/"
    },
    "id": "MuwCpp7cXWh4",
    "outputId": "9fbc4005-4b30-4254-a12f-e70ad45a772f"
   },
   "outputs": [
    {
     "data": {
      "text/html": [
       "<div>\n",
       "<style scoped>\n",
       "    .dataframe tbody tr th:only-of-type {\n",
       "        vertical-align: middle;\n",
       "    }\n",
       "\n",
       "    .dataframe tbody tr th {\n",
       "        vertical-align: top;\n",
       "    }\n",
       "\n",
       "    .dataframe thead th {\n",
       "        text-align: right;\n",
       "    }\n",
       "</style>\n",
       "<table border=\"1\" class=\"dataframe\">\n",
       "  <thead>\n",
       "    <tr style=\"text-align: right;\">\n",
       "      <th></th>\n",
       "      <th>name</th>\n",
       "      <th>course_url</th>\n",
       "      <th>course_id</th>\n",
       "      <th>reviewers</th>\n",
       "      <th>rating</th>\n",
       "      <th>user_id</th>\n",
       "    </tr>\n",
       "  </thead>\n",
       "  <tbody>\n",
       "    <tr>\n",
       "      <th>8191</th>\n",
       "      <td>The Bits and Bytes of Computer Networking</td>\n",
       "      <td>https://www.coursera.org/learn/computer-networ...</td>\n",
       "      <td>4</td>\n",
       "      <td>Olouwole A</td>\n",
       "      <td>5.0</td>\n",
       "      <td>3027</td>\n",
       "    </tr>\n",
       "    <tr>\n",
       "      <th>22652</th>\n",
       "      <td>Mathematics for Machine Learning: Linear Algebra</td>\n",
       "      <td>https://www.coursera.org/learn/linear-algebra-...</td>\n",
       "      <td>20</td>\n",
       "      <td>SUJITH V</td>\n",
       "      <td>5.0</td>\n",
       "      <td>4946</td>\n",
       "    </tr>\n",
       "    <tr>\n",
       "      <th>37288</th>\n",
       "      <td>Essential Google Cloud Infrastructure: Foundation</td>\n",
       "      <td>https://www.coursera.org/learn/gcp-infrastruct...</td>\n",
       "      <td>50</td>\n",
       "      <td>James W</td>\n",
       "      <td>5.0</td>\n",
       "      <td>1332</td>\n",
       "    </tr>\n",
       "    <tr>\n",
       "      <th>33883</th>\n",
       "      <td>Databases and SQL for Data Science</td>\n",
       "      <td>https://www.coursera.org/learn/sql-data-science</td>\n",
       "      <td>41</td>\n",
       "      <td>James C</td>\n",
       "      <td>5.0</td>\n",
       "      <td>2192</td>\n",
       "    </tr>\n",
       "    <tr>\n",
       "      <th>49514</th>\n",
       "      <td>AWS Fundamentals: Addressing Security Risk</td>\n",
       "      <td>https://www.coursera.org/learn/aws-fundamental...</td>\n",
       "      <td>104</td>\n",
       "      <td>Ganesh K</td>\n",
       "      <td>4.0</td>\n",
       "      <td>3684</td>\n",
       "    </tr>\n",
       "  </tbody>\n",
       "</table>\n",
       "</div>"
      ],
      "text/plain": [
       "                                                    name  \\\n",
       "8191           The Bits and Bytes of Computer Networking   \n",
       "22652   Mathematics for Machine Learning: Linear Algebra   \n",
       "37288  Essential Google Cloud Infrastructure: Foundation   \n",
       "33883                 Databases and SQL for Data Science   \n",
       "49514         AWS Fundamentals: Addressing Security Risk   \n",
       "\n",
       "                                              course_url  course_id  \\\n",
       "8191   https://www.coursera.org/learn/computer-networ...          4   \n",
       "22652  https://www.coursera.org/learn/linear-algebra-...         20   \n",
       "37288  https://www.coursera.org/learn/gcp-infrastruct...         50   \n",
       "33883    https://www.coursera.org/learn/sql-data-science         41   \n",
       "49514  https://www.coursera.org/learn/aws-fundamental...        104   \n",
       "\n",
       "        reviewers  rating  user_id  \n",
       "8191   Olouwole A     5.0     3027  \n",
       "22652    SUJITH V     5.0     4946  \n",
       "37288     James W     5.0     1332  \n",
       "33883     James C     5.0     2192  \n",
       "49514    Ganesh K     4.0     3684  "
      ]
     },
     "execution_count": 85,
     "metadata": {},
     "output_type": "execute_result"
    }
   ],
   "source": [
    "data_prep_df = data_prep_df.sample(frac=1, random_state=42)\n",
    "data_prep_df.head()"
   ]
  },
  {
   "cell_type": "code",
   "execution_count": 115,
   "metadata": {
    "colab": {
     "base_uri": "https://localhost:8080/"
    },
    "id": "peWfeqySXYwm",
    "outputId": "2f3d8fca-7ebc-4b69-fc63-759e4ec173f9"
   },
   "outputs": [
    {
     "data": {
      "text/html": [
       "<div>\n",
       "<style scoped>\n",
       "    .dataframe tbody tr th:only-of-type {\n",
       "        vertical-align: middle;\n",
       "    }\n",
       "\n",
       "    .dataframe tbody tr th {\n",
       "        vertical-align: top;\n",
       "    }\n",
       "\n",
       "    .dataframe thead th {\n",
       "        text-align: right;\n",
       "    }\n",
       "</style>\n",
       "<table border=\"1\" class=\"dataframe\">\n",
       "  <thead>\n",
       "    <tr style=\"text-align: right;\">\n",
       "      <th></th>\n",
       "      <th>name</th>\n",
       "      <th>course_url</th>\n",
       "      <th>course_id</th>\n",
       "      <th>rating</th>\n",
       "    </tr>\n",
       "  </thead>\n",
       "  <tbody>\n",
       "    <tr>\n",
       "      <th>0</th>\n",
       "      <td>AI For Everyone</td>\n",
       "      <td>https://www.coursera.org/learn/ai-for-everyone</td>\n",
       "      <td>5</td>\n",
       "      <td>4.84</td>\n",
       "    </tr>\n",
       "    <tr>\n",
       "      <th>1</th>\n",
       "      <td>AI for Medical Diagnosis</td>\n",
       "      <td>https://www.coursera.org/learn/ai-for-medical-...</td>\n",
       "      <td>63</td>\n",
       "      <td>4.65</td>\n",
       "    </tr>\n",
       "    <tr>\n",
       "      <th>2</th>\n",
       "      <td>AWS Fundamentals: Addressing Security Risk</td>\n",
       "      <td>https://www.coursera.org/learn/aws-fundamental...</td>\n",
       "      <td>104</td>\n",
       "      <td>4.13</td>\n",
       "    </tr>\n",
       "    <tr>\n",
       "      <th>3</th>\n",
       "      <td>AWS Fundamentals: Going Cloud-Native</td>\n",
       "      <td>https://www.coursera.org/learn/aws-fundamental...</td>\n",
       "      <td>47</td>\n",
       "      <td>4.60</td>\n",
       "    </tr>\n",
       "    <tr>\n",
       "      <th>4</th>\n",
       "      <td>Agile with Atlassian Jira</td>\n",
       "      <td>https://www.coursera.org/learn/agile-atlassian...</td>\n",
       "      <td>16</td>\n",
       "      <td>4.61</td>\n",
       "    </tr>\n",
       "  </tbody>\n",
       "</table>\n",
       "</div>"
      ],
      "text/plain": [
       "                                         name  \\\n",
       "0                             AI For Everyone   \n",
       "1                    AI for Medical Diagnosis   \n",
       "2  AWS Fundamentals: Addressing Security Risk   \n",
       "3        AWS Fundamentals: Going Cloud-Native   \n",
       "4                   Agile with Atlassian Jira   \n",
       "\n",
       "                                          course_url  course_id  rating  \n",
       "0     https://www.coursera.org/learn/ai-for-everyone          5    4.84  \n",
       "1  https://www.coursera.org/learn/ai-for-medical-...         63    4.65  \n",
       "2  https://www.coursera.org/learn/aws-fundamental...        104    4.13  \n",
       "3  https://www.coursera.org/learn/aws-fundamental...         47    4.60  \n",
       "4  https://www.coursera.org/learn/agile-atlassian...         16    4.61  "
      ]
     },
     "execution_count": 115,
     "metadata": {},
     "output_type": "execute_result"
    }
   ],
   "source": [
    "final_rating_df = data_prep_df[['name', 'course_url','rating', 'course_id']].copy()\n",
    "final_rating_df = final_rating_df.groupby(['name',\n",
    "                                           'course_url',\n",
    "                                           'course_id']\n",
    "                                          )['rating'].mean().reset_index()\n",
    "final_rating_df['rating'] = round(final_rating_df['rating'], 2)\n",
    "final_rating_df.head()"
   ]
  },
  {
   "cell_type": "code",
   "execution_count": null,
   "metadata": {},
   "outputs": [],
   "source": [
    "#Menyimpan data user\n",
    "# final_rating_df.to_csv('final_rating_df2.csv', index=False)"
   ]
  },
  {
   "cell_type": "markdown",
   "metadata": {
    "id": "i8oHj-B0XlKq"
   },
   "source": [
    "# Data Splitting"
   ]
  },
  {
   "cell_type": "code",
   "execution_count": 88,
   "metadata": {},
   "outputs": [
    {
     "data": {
      "text/html": [
       "<div>\n",
       "<style scoped>\n",
       "    .dataframe tbody tr th:only-of-type {\n",
       "        vertical-align: middle;\n",
       "    }\n",
       "\n",
       "    .dataframe tbody tr th {\n",
       "        vertical-align: top;\n",
       "    }\n",
       "\n",
       "    .dataframe thead th {\n",
       "        text-align: right;\n",
       "    }\n",
       "</style>\n",
       "<table border=\"1\" class=\"dataframe\">\n",
       "  <thead>\n",
       "    <tr style=\"text-align: right;\">\n",
       "      <th></th>\n",
       "      <th>name</th>\n",
       "      <th>course_url</th>\n",
       "      <th>course_id</th>\n",
       "      <th>reviewers</th>\n",
       "      <th>rating</th>\n",
       "      <th>user_id</th>\n",
       "    </tr>\n",
       "  </thead>\n",
       "  <tbody>\n",
       "    <tr>\n",
       "      <th>8191</th>\n",
       "      <td>The Bits and Bytes of Computer Networking</td>\n",
       "      <td>https://www.coursera.org/learn/computer-networ...</td>\n",
       "      <td>4</td>\n",
       "      <td>Olouwole A</td>\n",
       "      <td>5.0</td>\n",
       "      <td>3027</td>\n",
       "    </tr>\n",
       "    <tr>\n",
       "      <th>22652</th>\n",
       "      <td>Mathematics for Machine Learning: Linear Algebra</td>\n",
       "      <td>https://www.coursera.org/learn/linear-algebra-...</td>\n",
       "      <td>20</td>\n",
       "      <td>SUJITH V</td>\n",
       "      <td>5.0</td>\n",
       "      <td>4946</td>\n",
       "    </tr>\n",
       "    <tr>\n",
       "      <th>37288</th>\n",
       "      <td>Essential Google Cloud Infrastructure: Foundation</td>\n",
       "      <td>https://www.coursera.org/learn/gcp-infrastruct...</td>\n",
       "      <td>50</td>\n",
       "      <td>James W</td>\n",
       "      <td>5.0</td>\n",
       "      <td>1332</td>\n",
       "    </tr>\n",
       "    <tr>\n",
       "      <th>33883</th>\n",
       "      <td>Databases and SQL for Data Science</td>\n",
       "      <td>https://www.coursera.org/learn/sql-data-science</td>\n",
       "      <td>41</td>\n",
       "      <td>James C</td>\n",
       "      <td>5.0</td>\n",
       "      <td>2192</td>\n",
       "    </tr>\n",
       "    <tr>\n",
       "      <th>49514</th>\n",
       "      <td>AWS Fundamentals: Addressing Security Risk</td>\n",
       "      <td>https://www.coursera.org/learn/aws-fundamental...</td>\n",
       "      <td>104</td>\n",
       "      <td>Ganesh K</td>\n",
       "      <td>4.0</td>\n",
       "      <td>3684</td>\n",
       "    </tr>\n",
       "    <tr>\n",
       "      <th>...</th>\n",
       "      <td>...</td>\n",
       "      <td>...</td>\n",
       "      <td>...</td>\n",
       "      <td>...</td>\n",
       "      <td>...</td>\n",
       "      <td>...</td>\n",
       "    </tr>\n",
       "    <tr>\n",
       "      <th>11284</th>\n",
       "      <td>Neural Networks and Deep Learning</td>\n",
       "      <td>https://www.coursera.org/learn/neural-networks...</td>\n",
       "      <td>7</td>\n",
       "      <td>Carlos V</td>\n",
       "      <td>5.0</td>\n",
       "      <td>1231</td>\n",
       "    </tr>\n",
       "    <tr>\n",
       "      <th>44732</th>\n",
       "      <td>Introduction to Git and GitHub</td>\n",
       "      <td>https://www.coursera.org/learn/introduction-gi...</td>\n",
       "      <td>78</td>\n",
       "      <td>Siddharth K</td>\n",
       "      <td>5.0</td>\n",
       "      <td>9</td>\n",
       "    </tr>\n",
       "    <tr>\n",
       "      <th>38158</th>\n",
       "      <td>Introduction to Search Engine Optimization</td>\n",
       "      <td>https://www.coursera.org/learn/search-engine-o...</td>\n",
       "      <td>53</td>\n",
       "      <td>Arpita G</td>\n",
       "      <td>4.0</td>\n",
       "      <td>6113</td>\n",
       "    </tr>\n",
       "    <tr>\n",
       "      <th>860</th>\n",
       "      <td>Machine Learning</td>\n",
       "      <td>https://www.coursera.org/learn/machine-learning</td>\n",
       "      <td>1</td>\n",
       "      <td>John O</td>\n",
       "      <td>5.0</td>\n",
       "      <td>794</td>\n",
       "    </tr>\n",
       "    <tr>\n",
       "      <th>15795</th>\n",
       "      <td>Excel Skills for Business: Essentials</td>\n",
       "      <td>https://www.coursera.org/learn/excel-essentials</td>\n",
       "      <td>10</td>\n",
       "      <td>Juan J C</td>\n",
       "      <td>5.0</td>\n",
       "      <td>5181</td>\n",
       "    </tr>\n",
       "  </tbody>\n",
       "</table>\n",
       "<p>53323 rows × 6 columns</p>\n",
       "</div>"
      ],
      "text/plain": [
       "                                                    name  \\\n",
       "8191           The Bits and Bytes of Computer Networking   \n",
       "22652   Mathematics for Machine Learning: Linear Algebra   \n",
       "37288  Essential Google Cloud Infrastructure: Foundation   \n",
       "33883                 Databases and SQL for Data Science   \n",
       "49514         AWS Fundamentals: Addressing Security Risk   \n",
       "...                                                  ...   \n",
       "11284                  Neural Networks and Deep Learning   \n",
       "44732                     Introduction to Git and GitHub   \n",
       "38158         Introduction to Search Engine Optimization   \n",
       "860                                     Machine Learning   \n",
       "15795              Excel Skills for Business: Essentials   \n",
       "\n",
       "                                              course_url  course_id  \\\n",
       "8191   https://www.coursera.org/learn/computer-networ...          4   \n",
       "22652  https://www.coursera.org/learn/linear-algebra-...         20   \n",
       "37288  https://www.coursera.org/learn/gcp-infrastruct...         50   \n",
       "33883    https://www.coursera.org/learn/sql-data-science         41   \n",
       "49514  https://www.coursera.org/learn/aws-fundamental...        104   \n",
       "...                                                  ...        ...   \n",
       "11284  https://www.coursera.org/learn/neural-networks...          7   \n",
       "44732  https://www.coursera.org/learn/introduction-gi...         78   \n",
       "38158  https://www.coursera.org/learn/search-engine-o...         53   \n",
       "860      https://www.coursera.org/learn/machine-learning          1   \n",
       "15795    https://www.coursera.org/learn/excel-essentials         10   \n",
       "\n",
       "         reviewers  rating  user_id  \n",
       "8191    Olouwole A     5.0     3027  \n",
       "22652     SUJITH V     5.0     4946  \n",
       "37288      James W     5.0     1332  \n",
       "33883      James C     5.0     2192  \n",
       "49514     Ganesh K     4.0     3684  \n",
       "...            ...     ...      ...  \n",
       "11284     Carlos V     5.0     1231  \n",
       "44732  Siddharth K     5.0        9  \n",
       "38158     Arpita G     4.0     6113  \n",
       "860         John O     5.0      794  \n",
       "15795     Juan J C     5.0     5181  \n",
       "\n",
       "[53323 rows x 6 columns]"
      ]
     },
     "execution_count": 88,
     "metadata": {},
     "output_type": "execute_result"
    }
   ],
   "source": [
    "final_df = data_prep_df.copy()\n",
    "\n",
    "def remove_abnormal_data(final_df):\n",
    "    final_df['rating'] = pd.to_numeric(final_df['rating'], errors='coerce')\n",
    "    \n",
    "    final_df = final_df[(final_df['rating'] >= 1) & (final_df['rating'] <= 5)]\n",
    "    \n",
    "    final_df = final_df.dropna(subset=['name', 'course_url','course_id', 'reviewers', 'rating',\t'user_id'])\n",
    "    \n",
    "    return final_df\n",
    "\n",
    "final_df_cleaned = remove_abnormal_data(final_df)\n",
    "final_df_cleaned"
   ]
  },
  {
   "cell_type": "code",
   "execution_count": 89,
   "metadata": {},
   "outputs": [
    {
     "data": {
      "text/plain": [
       "122"
      ]
     },
     "execution_count": 89,
     "metadata": {},
     "output_type": "execute_result"
    }
   ],
   "source": [
    "final_df_cleaned['course_id'].nunique()"
   ]
  },
  {
   "cell_type": "code",
   "execution_count": null,
   "metadata": {},
   "outputs": [],
   "source": [
    "# final_df_cleaned.to_csv('final_df_cleaned.csv', index=False)"
   ]
  },
  {
   "cell_type": "code",
   "execution_count": 91,
   "metadata": {
    "colab": {
     "base_uri": "https://localhost:8080/"
    },
    "id": "hXkP3SaiXmtH",
    "outputId": "00fab16e-9e37-447f-a9a6-7eff94bb6f27"
   },
   "outputs": [
    {
     "name": "stdout",
     "output_type": "stream",
     "text": [
      "[[3027    4]\n",
      " [4946   20]\n",
      " [1332   50]\n",
      " ...\n",
      " [6113   53]\n",
      " [ 794    1]\n",
      " [5181   10]] [1.   1.   1.   ... 0.75 1.   1.  ]\n",
      "Jumlah data training: 47990\n",
      "Jumlah data validasi: 5333\n"
     ]
    }
   ],
   "source": [
    "final_df = final_df_cleaned.copy()\n",
    "\n",
    "min_rating = final_df['rating'].min()\n",
    "max_rating = final_df['rating'].max()\n",
    "\n",
    "x = final_df[['user_id', 'course_id']].values\n",
    "\n",
    "y = final_df['rating'].apply(lambda x:\\\n",
    "    (x - min_rating) / (max_rating - min_rating)).values\n",
    "\n",
    "# Membagi menjadi 98% data train dan 2% data validasi\n",
    "train_indices = int(0.90 * final_df.shape[0])\n",
    "x_train, x_val, y_train, y_val = (\n",
    "    x[:train_indices],\n",
    "    x[train_indices:],\n",
    "    y[:train_indices],\n",
    "    y[train_indices:]\n",
    ")\n",
    "\n",
    "print(x, y)\n",
    "print(\"Jumlah data training:\", len(x_train))\n",
    "print(\"Jumlah data validasi:\", len(x_val))\n"
   ]
  },
  {
   "cell_type": "markdown",
   "metadata": {
    "id": "Mq9gHYOjX30z"
   },
   "source": [
    "# Modeling"
   ]
  },
  {
   "cell_type": "code",
   "execution_count": 100,
   "metadata": {
    "id": "xHM0VO3gX22B"
   },
   "outputs": [],
   "source": [
    "import tensorflow as tf\n",
    "from tensorflow.keras import layers, Model\n",
    "from tensorflow.keras.callbacks import Callback\n",
    "from tensorflow.keras.callbacks import EarlyStopping\n",
    "from sklearn.model_selection import KFold\n",
    "\n",
    "# RMSE metric\n",
    "def rmse(y_true, y_pred):\n",
    "    return tf.sqrt(tf.reduce_mean(tf.square(y_true - y_pred)))\n",
    "\n",
    "# RMSECallback class\n",
    "class RMSECallback(Callback):\n",
    "    def on_epoch_end(self, epoch, logs=None):\n",
    "        logs = logs or {}\n",
    "        train_rmse = np.sqrt(logs.get('loss'))\n",
    "        val_rmse = np.sqrt(logs.get('val_loss'))\n",
    "\n",
    "\n",
    "class RecommenderNet(tf.keras.Model):\n",
    "\n",
    "  def __init__(self, num_users, num_courses, embedding_size, **kwargs):\n",
    "    super(RecommenderNet, self).__init__(**kwargs)\n",
    "\n",
    "    self.num_users = num_users\n",
    "    self.num_courses = num_courses\n",
    "    self.embedding_size = embedding_size\n",
    "\n",
    "    # Matrix Factorization (MF) Embeddings\n",
    "    self.user_embedding_mf = layers.Embedding(\n",
    "        num_users,\n",
    "        embedding_size,\n",
    "        embeddings_initializer='he_normal',\n",
    "        embeddings_regularizer=tf.keras.regularizers.l2(1e-4)\n",
    "    )\n",
    "    self.user_bias_mf = layers.Embedding(num_users, 1)\n",
    "    self.courses_embedding_mf = layers.Embedding(\n",
    "        num_courses,\n",
    "        embedding_size,\n",
    "        embeddings_initializer='he_normal',\n",
    "        embeddings_regularizer=tf.keras.regularizers.l2(1e-4)\n",
    "    )\n",
    "    self.courses_bias_mf = layers.Embedding(num_courses, 1)\n",
    "\n",
    "    # Neural Network (NN) Embeddings\n",
    "    self.user_embedding_nn = layers.Embedding(\n",
    "        num_users,\n",
    "        embedding_size,\n",
    "        embeddings_initializer='he_normal',\n",
    "        embeddings_regularizer=tf.keras.regularizers.l2(1e-4)\n",
    "    )\n",
    "    self.courses_embedding_nn = layers.Embedding(\n",
    "        num_courses,\n",
    "        embedding_size,\n",
    "        embeddings_initializer='he_normal',\n",
    "        embeddings_regularizer=tf.keras.regularizers.l2(1e-4)\n",
    "    )\n",
    "\n",
    "    # Neural Network Layers\n",
    "    self.dense1 = layers.Dense(64, activation='relu', kernel_regularizer=tf.keras.regularizers.l2(1e-4))\n",
    "    self.batch_norm1 = layers.BatchNormalization()\n",
    "    self.dropout1 = layers.Dropout(0.5)\n",
    "    self.dense2 = layers.Dense(32, activation='relu', kernel_regularizer=tf.keras.regularizers.l2(1e-4))\n",
    "    self.batch_norm2 = layers.BatchNormalization()\n",
    "    self.dropout2 = layers.Dropout(0.5)\n",
    "    \n",
    "\n",
    "\n",
    "    # Output Layer\n",
    "    self.output_layer = layers.Dense(1, activation='sigmoid')\n",
    "\n",
    "\n",
    "  def call(self, inputs):\n",
    "    user_vector_mf = self.user_embedding_mf(inputs[:, 0])\n",
    "    user_bias_mf = self.user_bias_mf(inputs[:, 0])\n",
    "    courses_vector_mf = self.courses_embedding_mf(inputs[:, 1])\n",
    "    courses_bias_mf = self.courses_bias_mf(inputs[:, 1])\n",
    "\n",
    "    dot_user_courses_mf = tf.tensordot(user_vector_mf, courses_vector_mf, axes=2)\n",
    "    x_mf = dot_user_courses_mf + user_bias_mf + courses_bias_mf\n",
    "\n",
    "    user_vector_nn = self.user_embedding_nn(inputs[:, 0])\n",
    "    courses_vector_nn = self.courses_embedding_nn(inputs[:, 1])\n",
    "\n",
    "    user_vector_nn = tf.keras.layers.Flatten()(user_vector_nn)\n",
    "    courses_vector_nn = tf.keras.layers.Flatten()(courses_vector_nn)\n",
    "\n",
    "    concat_nn = tf.keras.layers.Concatenate()([user_vector_nn, courses_vector_nn])\n",
    "\n",
    "    x_nn = self.dense1(concat_nn)\n",
    "    x_nn = self.batch_norm1(x_nn)\n",
    "    x_nn = self.dropout1(x_nn)\n",
    "    x_nn = self.dense2(x_nn)\n",
    "    x_nn = self.batch_norm2(x_nn)\n",
    "    x_nn = self.dropout2(x_nn)\n",
    "  \n",
    "\n",
    "\n",
    "    concat_mf_nn = tf.keras.layers.Concatenate()([x_mf, x_nn])\n",
    "    concat_mf_nn = self.dropout2(concat_mf_nn)\n",
    "\n",
    "    output = self.output_layer(concat_mf_nn)\n",
    "\n",
    "    return output\n",
    "\n",
    "early_stopping = EarlyStopping(monitor='val_loss', patience=3, restore_best_weights=True)"
   ]
  },
  {
   "cell_type": "code",
   "execution_count": 101,
   "metadata": {
    "colab": {
     "base_uri": "https://localhost:8080/"
    },
    "id": "rQjMjvDPX-SG",
    "outputId": "de288073-e384-4cae-ecd4-6d6258164fb4"
   },
   "outputs": [
    {
     "name": "stdout",
     "output_type": "stream",
     "text": [
      "Max user ID: 6317, Max course ID: 122\n",
      "Num users: 6318, Num courses: 123\n"
     ]
    }
   ],
   "source": [
    "max_user_id = max(np.max(x_train[:, 0]), np.max(x_val[:, 0]))\n",
    "max_course_id = max(np.max(x_train[:, 1]), np.max(x_val[:, 1]))\n",
    "\n",
    "print(f\"Max user ID: {max_user_id}, Max course ID: {max_course_id}\")\n",
    "\n",
    "num_users = max_user_id + 1\n",
    "num_courses = max_course_id + 1\n",
    "\n",
    "print(f\"Num users: {num_users}, Num courses: {num_courses}\")\n",
    "\n",
    "x_train = np.clip(x_train, 0, [num_users - 1, num_courses - 1])\n",
    "x_val = np.clip(x_val, 0, [num_users - 1, num_courses - 1])"
   ]
  },
  {
   "cell_type": "code",
   "execution_count": 102,
   "metadata": {},
   "outputs": [
    {
     "name": "stdout",
     "output_type": "stream",
     "text": [
      "Epoch 1/25\n",
      "\u001b[1m47/47\u001b[0m \u001b[32m━━━━━━━━━━━━━━━━━━━━\u001b[0m\u001b[37m\u001b[0m \u001b[1m2s\u001b[0m 12ms/step - loss: 0.2366 - rmse: 0.4302 - val_loss: 0.2054 - val_rmse: 0.3951\n",
      "Epoch 2/25\n",
      "\u001b[1m47/47\u001b[0m \u001b[32m━━━━━━━━━━━━━━━━━━━━\u001b[0m\u001b[37m\u001b[0m \u001b[1m0s\u001b[0m 7ms/step - loss: 0.1902 - rmse: 0.3760 - val_loss: 0.1713 - val_rmse: 0.3523\n",
      "Epoch 3/25\n",
      "\u001b[1m47/47\u001b[0m \u001b[32m━━━━━━━━━━━━━━━━━━━━\u001b[0m\u001b[37m\u001b[0m \u001b[1m0s\u001b[0m 7ms/step - loss: 0.1513 - rmse: 0.3233 - val_loss: 0.1421 - val_rmse: 0.3110\n",
      "Epoch 4/25\n",
      "\u001b[1m47/47\u001b[0m \u001b[32m━━━━━━━━━━━━━━━━━━━━\u001b[0m\u001b[37m\u001b[0m \u001b[1m0s\u001b[0m 7ms/step - loss: 0.1212 - rmse: 0.2763 - val_loss: 0.1202 - val_rmse: 0.2765\n",
      "Epoch 5/25\n",
      "\u001b[1m47/47\u001b[0m \u001b[32m━━━━━━━━━━━━━━━━━━━━\u001b[0m\u001b[37m\u001b[0m \u001b[1m0s\u001b[0m 6ms/step - loss: 0.1026 - rmse: 0.2441 - val_loss: 0.1055 - val_rmse: 0.2517\n",
      "Epoch 6/25\n",
      "\u001b[1m47/47\u001b[0m \u001b[32m━━━━━━━━━━━━━━━━━━━━\u001b[0m\u001b[37m\u001b[0m \u001b[1m0s\u001b[0m 6ms/step - loss: 0.0922 - rmse: 0.2253 - val_loss: 0.0968 - val_rmse: 0.2370\n",
      "Epoch 7/25\n",
      "\u001b[1m47/47\u001b[0m \u001b[32m━━━━━━━━━━━━━━━━━━━━\u001b[0m\u001b[37m\u001b[0m \u001b[1m0s\u001b[0m 6ms/step - loss: 0.0882 - rmse: 0.2198 - val_loss: 0.0914 - val_rmse: 0.2287\n",
      "Epoch 8/25\n",
      "\u001b[1m47/47\u001b[0m \u001b[32m━━━━━━━━━━━━━━━━━━━━\u001b[0m\u001b[37m\u001b[0m \u001b[1m0s\u001b[0m 6ms/step - loss: 0.0844 - rmse: 0.2147 - val_loss: 0.0878 - val_rmse: 0.2240\n",
      "Epoch 9/25\n",
      "\u001b[1m47/47\u001b[0m \u001b[32m━━━━━━━━━━━━━━━━━━━━\u001b[0m\u001b[37m\u001b[0m \u001b[1m0s\u001b[0m 7ms/step - loss: 0.0820 - rmse: 0.2122 - val_loss: 0.0852 - val_rmse: 0.2214\n",
      "Epoch 10/25\n",
      "\u001b[1m47/47\u001b[0m \u001b[32m━━━━━━━━━━━━━━━━━━━━\u001b[0m\u001b[37m\u001b[0m \u001b[1m0s\u001b[0m 6ms/step - loss: 0.0814 - rmse: 0.2141 - val_loss: 0.0832 - val_rmse: 0.2200\n",
      "Epoch 11/25\n",
      "\u001b[1m47/47\u001b[0m \u001b[32m━━━━━━━━━━━━━━━━━━━━\u001b[0m\u001b[37m\u001b[0m \u001b[1m0s\u001b[0m 6ms/step - loss: 0.0795 - rmse: 0.2129 - val_loss: 0.0816 - val_rmse: 0.2192\n",
      "Epoch 12/25\n",
      "\u001b[1m47/47\u001b[0m \u001b[32m━━━━━━━━━━━━━━━━━━━━\u001b[0m\u001b[37m\u001b[0m \u001b[1m0s\u001b[0m 6ms/step - loss: 0.0781 - rmse: 0.2122 - val_loss: 0.0801 - val_rmse: 0.2188\n",
      "Epoch 13/25\n",
      "\u001b[1m47/47\u001b[0m \u001b[32m━━━━━━━━━━━━━━━━━━━━\u001b[0m\u001b[37m\u001b[0m \u001b[1m0s\u001b[0m 6ms/step - loss: 0.0771 - rmse: 0.2129 - val_loss: 0.0789 - val_rmse: 0.2186\n",
      "Epoch 14/25\n",
      "\u001b[1m47/47\u001b[0m \u001b[32m━━━━━━━━━━━━━━━━━━━━\u001b[0m\u001b[37m\u001b[0m \u001b[1m0s\u001b[0m 7ms/step - loss: 0.0764 - rmse: 0.2140 - val_loss: 0.0778 - val_rmse: 0.2186\n",
      "Epoch 15/25\n",
      "\u001b[1m47/47\u001b[0m \u001b[32m━━━━━━━━━━━━━━━━━━━━\u001b[0m\u001b[37m\u001b[0m \u001b[1m0s\u001b[0m 7ms/step - loss: 0.0753 - rmse: 0.2139 - val_loss: 0.0767 - val_rmse: 0.2186\n",
      "Epoch 16/25\n",
      "\u001b[1m47/47\u001b[0m \u001b[32m━━━━━━━━━━━━━━━━━━━━\u001b[0m\u001b[37m\u001b[0m \u001b[1m0s\u001b[0m 7ms/step - loss: 0.0737 - rmse: 0.2127 - val_loss: 0.0757 - val_rmse: 0.2187\n",
      "Epoch 17/25\n",
      "\u001b[1m47/47\u001b[0m \u001b[32m━━━━━━━━━━━━━━━━━━━━\u001b[0m\u001b[37m\u001b[0m \u001b[1m0s\u001b[0m 7ms/step - loss: 0.0726 - rmse: 0.2126 - val_loss: 0.0747 - val_rmse: 0.2188\n",
      "Epoch 18/25\n",
      "\u001b[1m47/47\u001b[0m \u001b[32m━━━━━━━━━━━━━━━━━━━━\u001b[0m\u001b[37m\u001b[0m \u001b[1m0s\u001b[0m 7ms/step - loss: 0.0720 - rmse: 0.2140 - val_loss: 0.0738 - val_rmse: 0.2188\n",
      "Epoch 19/25\n",
      "\u001b[1m47/47\u001b[0m \u001b[32m━━━━━━━━━━━━━━━━━━━━\u001b[0m\u001b[37m\u001b[0m \u001b[1m0s\u001b[0m 6ms/step - loss: 0.0709 - rmse: 0.2140 - val_loss: 0.0729 - val_rmse: 0.2189\n",
      "Epoch 20/25\n",
      "\u001b[1m47/47\u001b[0m \u001b[32m━━━━━━━━━━━━━━━━━━━━\u001b[0m\u001b[37m\u001b[0m \u001b[1m0s\u001b[0m 6ms/step - loss: 0.0701 - rmse: 0.2144 - val_loss: 0.0720 - val_rmse: 0.2189\n",
      "Epoch 21/25\n",
      "\u001b[1m47/47\u001b[0m \u001b[32m━━━━━━━━━━━━━━━━━━━━\u001b[0m\u001b[37m\u001b[0m \u001b[1m0s\u001b[0m 6ms/step - loss: 0.0683 - rmse: 0.2128 - val_loss: 0.0711 - val_rmse: 0.2191\n",
      "Epoch 22/25\n",
      "\u001b[1m47/47\u001b[0m \u001b[32m━━━━━━━━━━━━━━━━━━━━\u001b[0m\u001b[37m\u001b[0m \u001b[1m0s\u001b[0m 6ms/step - loss: 0.0681 - rmse: 0.2150 - val_loss: 0.0703 - val_rmse: 0.2192\n",
      "Epoch 23/25\n",
      "\u001b[1m47/47\u001b[0m \u001b[32m━━━━━━━━━━━━━━━━━━━━\u001b[0m\u001b[37m\u001b[0m \u001b[1m0s\u001b[0m 6ms/step - loss: 0.0670 - rmse: 0.2144 - val_loss: 0.0694 - val_rmse: 0.2191\n",
      "Epoch 24/25\n",
      "\u001b[1m47/47\u001b[0m \u001b[32m━━━━━━━━━━━━━━━━━━━━\u001b[0m\u001b[37m\u001b[0m \u001b[1m0s\u001b[0m 6ms/step - loss: 0.0667 - rmse: 0.2169 - val_loss: 0.0686 - val_rmse: 0.2193\n",
      "Epoch 25/25\n",
      "\u001b[1m47/47\u001b[0m \u001b[32m━━━━━━━━━━━━━━━━━━━━\u001b[0m\u001b[37m\u001b[0m \u001b[1m0s\u001b[0m 6ms/step - loss: 0.0648 - rmse: 0.2145 - val_loss: 0.0679 - val_rmse: 0.2195\n"
     ]
    }
   ],
   "source": [
    "embedding_size = 50\n",
    "\n",
    "model = RecommenderNet(num_users, num_courses, embedding_size)\n",
    "model.compile(\n",
    "    optimizer=tf.keras.optimizers.Adam(learning_rate=0.0001),\n",
    "    loss='mse',\n",
    "    metrics=[rmse]\n",
    "    )\n",
    "\n",
    "history = model.fit(\n",
    "    x=x_train,\n",
    "    y=y_train,\n",
    "    batch_size=1024,\n",
    "    epochs=25,\n",
    "    validation_data=(x_val, y_val),\n",
    "    callbacks=[RMSECallback(),early_stopping]\n",
    ")"
   ]
  },
  {
   "cell_type": "code",
   "execution_count": null,
   "metadata": {},
   "outputs": [
    {
     "name": "stderr",
     "output_type": "stream",
     "text": [
      "WARNING:absl:You are saving your model as an HDF5 file via `model.save()` or `keras.saving.save_model(model)`. This file format is considered legacy. We recommend using instead the native Keras format, e.g. `model.save('my_model.keras')` or `keras.saving.save_model(model, 'my_model.keras')`. \n"
     ]
    }
   ],
   "source": [
    "# model.save('recommender_model.h5')"
   ]
  },
  {
   "cell_type": "code",
   "execution_count": 104,
   "metadata": {},
   "outputs": [],
   "source": [
    "model.save('recommender_model_keras.keras')"
   ]
  },
  {
   "cell_type": "code",
   "execution_count": 105,
   "metadata": {
    "colab": {
     "base_uri": "https://localhost:8080/",
     "height": 355
    },
    "id": "bmiX1BYNxOIB",
    "outputId": "950485b5-adce-4bff-82be-0ce8ee6e8393"
   },
   "outputs": [
    {
     "data": {
      "image/png": "[encoded data removed]",
      "text/plain": [
       "<Figure size 1200x400 with 2 Axes>"
      ]
     },
     "metadata": {},
     "output_type": "display_data"
    }
   ],
   "source": [
    "fig, ax = plt.subplots(nrows=1, ncols=2, figsize=(12, 4))\n",
    "\n",
    "ax[0].plot(history.history['loss'])\n",
    "ax[0].plot(history.history['val_loss'])\n",
    "ax[0].set_title('Model Loss')\n",
    "ax[0].set_ylabel('Loss')\n",
    "ax[0].set_xlabel('Epoch')\n",
    "ax[0].legend(['train', 'val'], loc='upper right')\n",
    "\n",
    "ax[1].plot(history.history['rmse'])\n",
    "ax[1].plot(history.history['val_rmse'])\n",
    "ax[1].set_title('Model Performance')\n",
    "ax[1].set_ylabel('RMSE')\n",
    "ax[1].set_xlabel('Epoch')\n",
    "ax[1].legend(['train', 'val'], loc='upper right')\n",
    "\n",
    "plt.show()"
   ]
  },
  {
   "cell_type": "markdown",
   "metadata": {
    "id": "o1zbqGHzJ5h4"
   },
   "source": [
    "# Recommeder System\n"
   ]
  },
  {
   "cell_type": "code",
   "execution_count": 112,
   "metadata": {
    "id": "7eDPFrLYJ7dB"
   },
   "outputs": [],
   "source": [
    "def get_recommendations():\n",
    "  user_id = int(input(\"Masukkan User ID (1 - 6317): \"))\n",
    "  if user_id <= num_users:\n",
    "    reviewed_course_by_user = final_df[final_df.user_id == user_id]\n",
    "\n",
    "    courses_not_reviewed = final_df[~(final_df.name\n",
    "                                      .isin(reviewed_course_by_user.name.values)\n",
    "                                      )]['course_id']\n",
    "    courses_not_reviewed = list(\n",
    "        set(courses_not_reviewed)\n",
    "        .intersection(set(courses_decoded.keys()))\n",
    "    )\n",
    "\n",
    "    courses_not_reviewed = [[x] for x in courses_not_reviewed]\n",
    "    user_courses_array = np.hstack(\n",
    "        ([[user_id]] * len(courses_not_reviewed), courses_not_reviewed)\n",
    "    )\n",
    "\n",
    "    ratings = model.predict(user_courses_array, verbose=0).flatten()\n",
    "\n",
    "    top_ratings_indices = ratings.argsort()[-10:][::-1]\n",
    "\n",
    "    top_courses_user = reviewed_course_by_user.sort_values(\n",
    "            by = 'rating',\n",
    "            ascending=False\n",
    "        ).head(10)\n",
    "\n",
    "    if len(top_courses_user) >= 10:\n",
    "        print('10 Kursus Teratas dengan rating tertinggi dari', users_decoded.get(user_id))\n",
    "        print('-' * 24)\n",
    "        print(\"| Course name : Rating |\")\n",
    "        print('-' * 24)\n",
    "    else:\n",
    "        num_of_courses = len(top_courses_user)\n",
    "        print(num_of_courses, 'Kursus Teratas dengan rating tertinggi dari', users_decoded.get(user_id))\n",
    "        print('-' * 24)\n",
    "        print(\"| Course name : Rating |\")\n",
    "        print('-' * 24)\n",
    "\n",
    "    for row in top_courses_user.itertuples():\n",
    "        print(row.name, ':', row.rating)\n",
    "\n",
    "    print(\"\\nBerikut 10 kursus rekomendasi yang mungkin Anda sukai\")\n",
    "\n",
    "    recommended_courses = final_rating_df[final_rating_df['course_id']\\\n",
    "                                          .isin(top_ratings_indices)]\n",
    "\n",
    "    top_10_recommended_courses = recommended_courses[['name',\n",
    "                                                      'course_url',\n",
    "                                                    'rating']].head(10)\n",
    "\n",
    "    return top_10_recommended_courses\n",
    "  else:\n",
    "    print(\"ID user tidak ditemukan.\")\n",
    "    return get_recommendations()"
   ]
  },
  {
   "cell_type": "code",
   "execution_count": 114,
   "metadata": {
    "colab": {
     "base_uri": "https://localhost:8080/",
     "height": 636
    },
    "id": "yk9wTzO4J9Ac",
    "outputId": "ee613190-4a84-4d17-fbca-13599f3cda24"
   },
   "outputs": [
    {
     "name": "stdout",
     "output_type": "stream",
     "text": [
      "5 Kursus Teratas dengan rating tertinggi dari Sergey G\n",
      "------------------------\n",
      "| Course name : Rating |\n",
      "------------------------\n",
      "Functional Programming Principles in Scala : 5.0\n",
      "Machine Learning : 5.0\n",
      "Blockchain Basics : 5.0\n",
      "Neural Networks and Deep Learning : 5.0\n",
      "Machine Learning Foundations: A Case Study Approach : 4.0\n",
      "\n",
      "Berikut 10 kursus rekomendasi yang mungkin Anda sukai\n"
     ]
    },
    {
     "data": {
      "text/html": [
       "<div>\n",
       "<style scoped>\n",
       "    .dataframe tbody tr th:only-of-type {\n",
       "        vertical-align: middle;\n",
       "    }\n",
       "\n",
       "    .dataframe tbody tr th {\n",
       "        vertical-align: top;\n",
       "    }\n",
       "\n",
       "    .dataframe thead th {\n",
       "        text-align: right;\n",
       "    }\n",
       "</style>\n",
       "<table border=\"1\" class=\"dataframe\">\n",
       "  <thead>\n",
       "    <tr style=\"text-align: right;\">\n",
       "      <th></th>\n",
       "      <th>name</th>\n",
       "      <th>course_url</th>\n",
       "      <th>rating</th>\n",
       "    </tr>\n",
       "  </thead>\n",
       "  <tbody>\n",
       "    <tr>\n",
       "      <th>24</th>\n",
       "      <td>Databases and SQL for Data Science</td>\n",
       "      <td>https://www.coursera.org/learn/sql-data-science</td>\n",
       "      <td>4.49</td>\n",
       "    </tr>\n",
       "    <tr>\n",
       "      <th>60</th>\n",
       "      <td>Introduction to Probability and Data with R</td>\n",
       "      <td>https://www.coursera.org/learn/probability-intro</td>\n",
       "      <td>4.62</td>\n",
       "    </tr>\n",
       "    <tr>\n",
       "      <th>66</th>\n",
       "      <td>Introduction to Systematic Review and Meta-Ana...</td>\n",
       "      <td>https://www.coursera.org/learn/systematic-review</td>\n",
       "      <td>4.70</td>\n",
       "    </tr>\n",
       "    <tr>\n",
       "      <th>75</th>\n",
       "      <td>Machine Learning for All</td>\n",
       "      <td>https://www.coursera.org/learn/uol-machine-lea...</td>\n",
       "      <td>4.68</td>\n",
       "    </tr>\n",
       "    <tr>\n",
       "      <th>86</th>\n",
       "      <td>Neural Networks and Deep Learning</td>\n",
       "      <td>https://www.coursera.org/learn/neural-networks...</td>\n",
       "      <td>4.70</td>\n",
       "    </tr>\n",
       "    <tr>\n",
       "      <th>94</th>\n",
       "      <td>Programming for Everybody (Getting Started wit...</td>\n",
       "      <td>https://www.coursera.org/learn/python</td>\n",
       "      <td>4.57</td>\n",
       "    </tr>\n",
       "    <tr>\n",
       "      <th>97</th>\n",
       "      <td>Python Programming: A Concise Introduction</td>\n",
       "      <td>https://www.coursera.org/learn/python-programm...</td>\n",
       "      <td>4.60</td>\n",
       "    </tr>\n",
       "    <tr>\n",
       "      <th>112</th>\n",
       "      <td>The Data Scientistâ€™s Toolbox</td>\n",
       "      <td>https://www.coursera.org/learn/data-scientists...</td>\n",
       "      <td>4.34</td>\n",
       "    </tr>\n",
       "    <tr>\n",
       "      <th>121</th>\n",
       "      <td>Writing in the Sciences</td>\n",
       "      <td>https://www.coursera.org/learn/sciwrite</td>\n",
       "      <td>4.84</td>\n",
       "    </tr>\n",
       "  </tbody>\n",
       "</table>\n",
       "</div>"
      ],
      "text/plain": [
       "                                                  name  \\\n",
       "24                  Databases and SQL for Data Science   \n",
       "60         Introduction to Probability and Data with R   \n",
       "66   Introduction to Systematic Review and Meta-Ana...   \n",
       "75                            Machine Learning for All   \n",
       "86                   Neural Networks and Deep Learning   \n",
       "94   Programming for Everybody (Getting Started wit...   \n",
       "97          Python Programming: A Concise Introduction   \n",
       "112                     The Data Scientistâ€™s Toolbox   \n",
       "121                            Writing in the Sciences   \n",
       "\n",
       "                                            course_url  rating  \n",
       "24     https://www.coursera.org/learn/sql-data-science    4.49  \n",
       "60    https://www.coursera.org/learn/probability-intro    4.62  \n",
       "66    https://www.coursera.org/learn/systematic-review    4.70  \n",
       "75   https://www.coursera.org/learn/uol-machine-lea...    4.68  \n",
       "86   https://www.coursera.org/learn/neural-networks...    4.70  \n",
       "94               https://www.coursera.org/learn/python    4.57  \n",
       "97   https://www.coursera.org/learn/python-programm...    4.60  \n",
       "112  https://www.coursera.org/learn/data-scientists...    4.34  \n",
       "121            https://www.coursera.org/learn/sciwrite    4.84  "
      ]
     },
     "execution_count": 114,
     "metadata": {},
     "output_type": "execute_result"
    }
   ],
   "source": [
    "recommended_courses = get_recommendations()\n",
    "recommended_courses"
   ]
  }
 ],
 "metadata": {
  "colab": {
   "collapsed_sections": [
    "rPBGzugxVOp_",
    "VDcmWX74Vbzx",
    "tpL7FGdyVvcM"
   ],
   "provenance": []
  },
  "kernelspec": {
   "display_name": "Python 3",
   "name": "python3"
  },
  "language_info": {
   "codemirror_mode": {
    "name": "ipython",
    "version": 3
   },
   "file_extension": ".py",
   "mimetype": "text/x-python",
   "name": "python",
   "nbconvert_exporter": "python",
   "pygments_lexer": "ipython3",
   "version": "3.10.0"
  }
 },
 "nbformat": 4,
 "nbformat_minor": 0
}
